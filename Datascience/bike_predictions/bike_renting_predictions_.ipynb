{
 "cells": [
  {
   "cell_type": "code",
   "execution_count": 2,
   "metadata": {},
   "outputs": [],
   "source": [
    "import json\n",
    "import pandas as pd\n",
    "import numpy as np \n",
    "import matplotlib.pyplot as plt\n",
    "import datetime as dt\n",
    "import seaborn as sns\n",
    "%matplotlib inline"
   ]
  },
  {
   "cell_type": "code",
   "execution_count": 3,
   "metadata": {},
   "outputs": [],
   "source": [
    "df1 = pd.read_csv('day.csv')"
   ]
  },
  {
   "cell_type": "code",
   "execution_count": 4,
   "metadata": {},
   "outputs": [
    {
     "data": {
      "text/html": [
       "<div>\n",
       "<style scoped>\n",
       "    .dataframe tbody tr th:only-of-type {\n",
       "        vertical-align: middle;\n",
       "    }\n",
       "\n",
       "    .dataframe tbody tr th {\n",
       "        vertical-align: top;\n",
       "    }\n",
       "\n",
       "    .dataframe thead th {\n",
       "        text-align: right;\n",
       "    }\n",
       "</style>\n",
       "<table border=\"1\" class=\"dataframe\">\n",
       "  <thead>\n",
       "    <tr style=\"text-align: right;\">\n",
       "      <th></th>\n",
       "      <th>instant</th>\n",
       "      <th>season</th>\n",
       "      <th>yr</th>\n",
       "      <th>mnth</th>\n",
       "      <th>holiday</th>\n",
       "      <th>weekday</th>\n",
       "      <th>workingday</th>\n",
       "      <th>weathersit</th>\n",
       "      <th>temp</th>\n",
       "      <th>atemp</th>\n",
       "      <th>hum</th>\n",
       "      <th>windspeed</th>\n",
       "      <th>casual</th>\n",
       "      <th>registered</th>\n",
       "      <th>cnt</th>\n",
       "    </tr>\n",
       "  </thead>\n",
       "  <tbody>\n",
       "    <tr>\n",
       "      <th>count</th>\n",
       "      <td>731.000000</td>\n",
       "      <td>731.000000</td>\n",
       "      <td>731.000000</td>\n",
       "      <td>731.000000</td>\n",
       "      <td>731.000000</td>\n",
       "      <td>731.000000</td>\n",
       "      <td>731.000000</td>\n",
       "      <td>731.000000</td>\n",
       "      <td>731.000000</td>\n",
       "      <td>731.000000</td>\n",
       "      <td>731.000000</td>\n",
       "      <td>731.000000</td>\n",
       "      <td>731.000000</td>\n",
       "      <td>731.000000</td>\n",
       "      <td>731.000000</td>\n",
       "    </tr>\n",
       "    <tr>\n",
       "      <th>mean</th>\n",
       "      <td>366.000000</td>\n",
       "      <td>2.496580</td>\n",
       "      <td>0.500684</td>\n",
       "      <td>6.519836</td>\n",
       "      <td>0.028728</td>\n",
       "      <td>2.997264</td>\n",
       "      <td>0.683995</td>\n",
       "      <td>1.395349</td>\n",
       "      <td>0.495385</td>\n",
       "      <td>0.474354</td>\n",
       "      <td>0.627894</td>\n",
       "      <td>0.190486</td>\n",
       "      <td>848.176471</td>\n",
       "      <td>3656.172367</td>\n",
       "      <td>4504.348837</td>\n",
       "    </tr>\n",
       "    <tr>\n",
       "      <th>std</th>\n",
       "      <td>211.165812</td>\n",
       "      <td>1.110807</td>\n",
       "      <td>0.500342</td>\n",
       "      <td>3.451913</td>\n",
       "      <td>0.167155</td>\n",
       "      <td>2.004787</td>\n",
       "      <td>0.465233</td>\n",
       "      <td>0.544894</td>\n",
       "      <td>0.183051</td>\n",
       "      <td>0.162961</td>\n",
       "      <td>0.142429</td>\n",
       "      <td>0.077498</td>\n",
       "      <td>686.622488</td>\n",
       "      <td>1560.256377</td>\n",
       "      <td>1937.211452</td>\n",
       "    </tr>\n",
       "    <tr>\n",
       "      <th>min</th>\n",
       "      <td>1.000000</td>\n",
       "      <td>1.000000</td>\n",
       "      <td>0.000000</td>\n",
       "      <td>1.000000</td>\n",
       "      <td>0.000000</td>\n",
       "      <td>0.000000</td>\n",
       "      <td>0.000000</td>\n",
       "      <td>1.000000</td>\n",
       "      <td>0.059130</td>\n",
       "      <td>0.079070</td>\n",
       "      <td>0.000000</td>\n",
       "      <td>0.022392</td>\n",
       "      <td>2.000000</td>\n",
       "      <td>20.000000</td>\n",
       "      <td>22.000000</td>\n",
       "    </tr>\n",
       "    <tr>\n",
       "      <th>25%</th>\n",
       "      <td>183.500000</td>\n",
       "      <td>2.000000</td>\n",
       "      <td>0.000000</td>\n",
       "      <td>4.000000</td>\n",
       "      <td>0.000000</td>\n",
       "      <td>1.000000</td>\n",
       "      <td>0.000000</td>\n",
       "      <td>1.000000</td>\n",
       "      <td>0.337083</td>\n",
       "      <td>0.337842</td>\n",
       "      <td>0.520000</td>\n",
       "      <td>0.134950</td>\n",
       "      <td>315.500000</td>\n",
       "      <td>2497.000000</td>\n",
       "      <td>3152.000000</td>\n",
       "    </tr>\n",
       "    <tr>\n",
       "      <th>50%</th>\n",
       "      <td>366.000000</td>\n",
       "      <td>3.000000</td>\n",
       "      <td>1.000000</td>\n",
       "      <td>7.000000</td>\n",
       "      <td>0.000000</td>\n",
       "      <td>3.000000</td>\n",
       "      <td>1.000000</td>\n",
       "      <td>1.000000</td>\n",
       "      <td>0.498333</td>\n",
       "      <td>0.486733</td>\n",
       "      <td>0.626667</td>\n",
       "      <td>0.180975</td>\n",
       "      <td>713.000000</td>\n",
       "      <td>3662.000000</td>\n",
       "      <td>4548.000000</td>\n",
       "    </tr>\n",
       "    <tr>\n",
       "      <th>75%</th>\n",
       "      <td>548.500000</td>\n",
       "      <td>3.000000</td>\n",
       "      <td>1.000000</td>\n",
       "      <td>10.000000</td>\n",
       "      <td>0.000000</td>\n",
       "      <td>5.000000</td>\n",
       "      <td>1.000000</td>\n",
       "      <td>2.000000</td>\n",
       "      <td>0.655417</td>\n",
       "      <td>0.608602</td>\n",
       "      <td>0.730209</td>\n",
       "      <td>0.233214</td>\n",
       "      <td>1096.000000</td>\n",
       "      <td>4776.500000</td>\n",
       "      <td>5956.000000</td>\n",
       "    </tr>\n",
       "    <tr>\n",
       "      <th>max</th>\n",
       "      <td>731.000000</td>\n",
       "      <td>4.000000</td>\n",
       "      <td>1.000000</td>\n",
       "      <td>12.000000</td>\n",
       "      <td>1.000000</td>\n",
       "      <td>6.000000</td>\n",
       "      <td>1.000000</td>\n",
       "      <td>3.000000</td>\n",
       "      <td>0.861667</td>\n",
       "      <td>0.840896</td>\n",
       "      <td>0.972500</td>\n",
       "      <td>0.507463</td>\n",
       "      <td>3410.000000</td>\n",
       "      <td>6946.000000</td>\n",
       "      <td>8714.000000</td>\n",
       "    </tr>\n",
       "  </tbody>\n",
       "</table>\n",
       "</div>"
      ],
      "text/plain": [
       "          instant      season          yr        mnth     holiday     weekday  \\\n",
       "count  731.000000  731.000000  731.000000  731.000000  731.000000  731.000000   \n",
       "mean   366.000000    2.496580    0.500684    6.519836    0.028728    2.997264   \n",
       "std    211.165812    1.110807    0.500342    3.451913    0.167155    2.004787   \n",
       "min      1.000000    1.000000    0.000000    1.000000    0.000000    0.000000   \n",
       "25%    183.500000    2.000000    0.000000    4.000000    0.000000    1.000000   \n",
       "50%    366.000000    3.000000    1.000000    7.000000    0.000000    3.000000   \n",
       "75%    548.500000    3.000000    1.000000   10.000000    0.000000    5.000000   \n",
       "max    731.000000    4.000000    1.000000   12.000000    1.000000    6.000000   \n",
       "\n",
       "       workingday  weathersit        temp       atemp         hum   windspeed  \\\n",
       "count  731.000000  731.000000  731.000000  731.000000  731.000000  731.000000   \n",
       "mean     0.683995    1.395349    0.495385    0.474354    0.627894    0.190486   \n",
       "std      0.465233    0.544894    0.183051    0.162961    0.142429    0.077498   \n",
       "min      0.000000    1.000000    0.059130    0.079070    0.000000    0.022392   \n",
       "25%      0.000000    1.000000    0.337083    0.337842    0.520000    0.134950   \n",
       "50%      1.000000    1.000000    0.498333    0.486733    0.626667    0.180975   \n",
       "75%      1.000000    2.000000    0.655417    0.608602    0.730209    0.233214   \n",
       "max      1.000000    3.000000    0.861667    0.840896    0.972500    0.507463   \n",
       "\n",
       "            casual   registered          cnt  \n",
       "count   731.000000   731.000000   731.000000  \n",
       "mean    848.176471  3656.172367  4504.348837  \n",
       "std     686.622488  1560.256377  1937.211452  \n",
       "min       2.000000    20.000000    22.000000  \n",
       "25%     315.500000  2497.000000  3152.000000  \n",
       "50%     713.000000  3662.000000  4548.000000  \n",
       "75%    1096.000000  4776.500000  5956.000000  \n",
       "max    3410.000000  6946.000000  8714.000000  "
      ]
     },
     "execution_count": 4,
     "metadata": {},
     "output_type": "execute_result"
    }
   ],
   "source": [
    "df1.describe()"
   ]
  },
  {
   "cell_type": "code",
   "execution_count": 5,
   "metadata": {},
   "outputs": [
    {
     "data": {
      "text/plain": [
       "Index(['instant', 'dteday', 'season', 'yr', 'mnth', 'holiday', 'weekday',\n",
       "       'workingday', 'weathersit', 'temp', 'atemp', 'hum', 'windspeed',\n",
       "       'casual', 'registered', 'cnt'],\n",
       "      dtype='object')"
      ]
     },
     "execution_count": 5,
     "metadata": {},
     "output_type": "execute_result"
    }
   ],
   "source": [
    "df1.columns"
   ]
  },
  {
   "cell_type": "code",
   "execution_count": 6,
   "metadata": {},
   "outputs": [
    {
     "data": {
      "text/html": [
       "<div>\n",
       "<style scoped>\n",
       "    .dataframe tbody tr th:only-of-type {\n",
       "        vertical-align: middle;\n",
       "    }\n",
       "\n",
       "    .dataframe tbody tr th {\n",
       "        vertical-align: top;\n",
       "    }\n",
       "\n",
       "    .dataframe thead th {\n",
       "        text-align: right;\n",
       "    }\n",
       "</style>\n",
       "<table border=\"1\" class=\"dataframe\">\n",
       "  <thead>\n",
       "    <tr style=\"text-align: right;\">\n",
       "      <th></th>\n",
       "      <th>instant</th>\n",
       "      <th>dteday</th>\n",
       "      <th>season</th>\n",
       "      <th>yr</th>\n",
       "      <th>mnth</th>\n",
       "      <th>holiday</th>\n",
       "      <th>weekday</th>\n",
       "      <th>workingday</th>\n",
       "      <th>weathersit</th>\n",
       "      <th>temp</th>\n",
       "      <th>atemp</th>\n",
       "      <th>hum</th>\n",
       "      <th>windspeed</th>\n",
       "      <th>casual</th>\n",
       "      <th>registered</th>\n",
       "      <th>cnt</th>\n",
       "    </tr>\n",
       "  </thead>\n",
       "  <tbody>\n",
       "    <tr>\n",
       "      <th>0</th>\n",
       "      <td>1</td>\n",
       "      <td>2011-01-01</td>\n",
       "      <td>1</td>\n",
       "      <td>0</td>\n",
       "      <td>1</td>\n",
       "      <td>0</td>\n",
       "      <td>6</td>\n",
       "      <td>0</td>\n",
       "      <td>2</td>\n",
       "      <td>0.344167</td>\n",
       "      <td>0.363625</td>\n",
       "      <td>0.805833</td>\n",
       "      <td>0.160446</td>\n",
       "      <td>331</td>\n",
       "      <td>654</td>\n",
       "      <td>985</td>\n",
       "    </tr>\n",
       "    <tr>\n",
       "      <th>1</th>\n",
       "      <td>2</td>\n",
       "      <td>2011-01-02</td>\n",
       "      <td>1</td>\n",
       "      <td>0</td>\n",
       "      <td>1</td>\n",
       "      <td>0</td>\n",
       "      <td>0</td>\n",
       "      <td>0</td>\n",
       "      <td>2</td>\n",
       "      <td>0.363478</td>\n",
       "      <td>0.353739</td>\n",
       "      <td>0.696087</td>\n",
       "      <td>0.248539</td>\n",
       "      <td>131</td>\n",
       "      <td>670</td>\n",
       "      <td>801</td>\n",
       "    </tr>\n",
       "    <tr>\n",
       "      <th>2</th>\n",
       "      <td>3</td>\n",
       "      <td>2011-01-03</td>\n",
       "      <td>1</td>\n",
       "      <td>0</td>\n",
       "      <td>1</td>\n",
       "      <td>0</td>\n",
       "      <td>1</td>\n",
       "      <td>1</td>\n",
       "      <td>1</td>\n",
       "      <td>0.196364</td>\n",
       "      <td>0.189405</td>\n",
       "      <td>0.437273</td>\n",
       "      <td>0.248309</td>\n",
       "      <td>120</td>\n",
       "      <td>1229</td>\n",
       "      <td>1349</td>\n",
       "    </tr>\n",
       "    <tr>\n",
       "      <th>3</th>\n",
       "      <td>4</td>\n",
       "      <td>2011-01-04</td>\n",
       "      <td>1</td>\n",
       "      <td>0</td>\n",
       "      <td>1</td>\n",
       "      <td>0</td>\n",
       "      <td>2</td>\n",
       "      <td>1</td>\n",
       "      <td>1</td>\n",
       "      <td>0.200000</td>\n",
       "      <td>0.212122</td>\n",
       "      <td>0.590435</td>\n",
       "      <td>0.160296</td>\n",
       "      <td>108</td>\n",
       "      <td>1454</td>\n",
       "      <td>1562</td>\n",
       "    </tr>\n",
       "    <tr>\n",
       "      <th>4</th>\n",
       "      <td>5</td>\n",
       "      <td>2011-01-05</td>\n",
       "      <td>1</td>\n",
       "      <td>0</td>\n",
       "      <td>1</td>\n",
       "      <td>0</td>\n",
       "      <td>3</td>\n",
       "      <td>1</td>\n",
       "      <td>1</td>\n",
       "      <td>0.226957</td>\n",
       "      <td>0.229270</td>\n",
       "      <td>0.436957</td>\n",
       "      <td>0.186900</td>\n",
       "      <td>82</td>\n",
       "      <td>1518</td>\n",
       "      <td>1600</td>\n",
       "    </tr>\n",
       "  </tbody>\n",
       "</table>\n",
       "</div>"
      ],
      "text/plain": [
       "   instant      dteday  season  yr  mnth  holiday  weekday  workingday  \\\n",
       "0        1  2011-01-01       1   0     1        0        6           0   \n",
       "1        2  2011-01-02       1   0     1        0        0           0   \n",
       "2        3  2011-01-03       1   0     1        0        1           1   \n",
       "3        4  2011-01-04       1   0     1        0        2           1   \n",
       "4        5  2011-01-05       1   0     1        0        3           1   \n",
       "\n",
       "   weathersit      temp     atemp       hum  windspeed  casual  registered  \\\n",
       "0           2  0.344167  0.363625  0.805833   0.160446     331         654   \n",
       "1           2  0.363478  0.353739  0.696087   0.248539     131         670   \n",
       "2           1  0.196364  0.189405  0.437273   0.248309     120        1229   \n",
       "3           1  0.200000  0.212122  0.590435   0.160296     108        1454   \n",
       "4           1  0.226957  0.229270  0.436957   0.186900      82        1518   \n",
       "\n",
       "    cnt  \n",
       "0   985  \n",
       "1   801  \n",
       "2  1349  \n",
       "3  1562  \n",
       "4  1600  "
      ]
     },
     "execution_count": 6,
     "metadata": {},
     "output_type": "execute_result"
    }
   ],
   "source": [
    "df1.head()"
   ]
  },
  {
   "cell_type": "code",
   "execution_count": 7,
   "metadata": {},
   "outputs": [
    {
     "name": "stdout",
     "output_type": "stream",
     "text": [
      "<class 'pandas.core.frame.DataFrame'>\n",
      "RangeIndex: 731 entries, 0 to 730\n",
      "Data columns (total 16 columns):\n",
      "instant       731 non-null int64\n",
      "dteday        731 non-null object\n",
      "season        731 non-null int64\n",
      "yr            731 non-null int64\n",
      "mnth          731 non-null int64\n",
      "holiday       731 non-null int64\n",
      "weekday       731 non-null int64\n",
      "workingday    731 non-null int64\n",
      "weathersit    731 non-null int64\n",
      "temp          731 non-null float64\n",
      "atemp         731 non-null float64\n",
      "hum           731 non-null float64\n",
      "windspeed     731 non-null float64\n",
      "casual        731 non-null int64\n",
      "registered    731 non-null int64\n",
      "cnt           731 non-null int64\n",
      "dtypes: float64(4), int64(11), object(1)\n",
      "memory usage: 91.5+ KB\n"
     ]
    }
   ],
   "source": [
    "df1.info()"
   ]
  },
  {
   "cell_type": "markdown",
   "metadata": {},
   "source": [
    "**Lets check for any kind of null or missing values**"
   ]
  },
  {
   "cell_type": "code",
   "execution_count": 8,
   "metadata": {},
   "outputs": [
    {
     "data": {
      "text/plain": [
       "instant       0\n",
       "dteday        0\n",
       "season        0\n",
       "yr            0\n",
       "mnth          0\n",
       "holiday       0\n",
       "weekday       0\n",
       "workingday    0\n",
       "weathersit    0\n",
       "temp          0\n",
       "atemp         0\n",
       "hum           0\n",
       "windspeed     0\n",
       "casual        0\n",
       "registered    0\n",
       "cnt           0\n",
       "dtype: int64"
      ]
     },
     "execution_count": 8,
     "metadata": {},
     "output_type": "execute_result"
    }
   ],
   "source": [
    "df1.isnull().sum()"
   ]
  },
  {
   "cell_type": "markdown",
   "metadata": {},
   "source": [
    "**NO there are no null values**"
   ]
  },
  {
   "cell_type": "markdown",
   "metadata": {},
   "source": [
    "**Explotaory data Analysis and will change the column type according to their behaviour**"
   ]
  },
  {
   "cell_type": "code",
   "execution_count": 9,
   "metadata": {},
   "outputs": [],
   "source": [
    "\n",
    "df1['season']= df1['season'].astype('category')\n",
    "df1['yr']=df1['yr'].astype('int')\n",
    "df1['mnth']=df1['mnth'].astype('category')\n",
    "df1['holiday']=df1['holiday'].astype('int')\n",
    "df1['workingday']=df1['workingday'].astype('int')\n",
    "df1['weekday']=df1['weekday'].astype('category')\n",
    "df1['weathersit']=df1['weathersit'].astype('category')\n",
    "d1=df1['dteday'].copy()\n",
    "for i in range (0,d1.shape[0]):\n",
    "    d1[i]=dt.datetime.strptime(d1[i], '%Y-%m-%d').strftime('%d')\n",
    "df1['dteday']=d1\n",
    "df1['dteday']=df1['dteday'].astype('category')\n",
    "df1 = df1.drop(['instant','casual', 'registered'], axis=1)"
   ]
  },
  {
   "cell_type": "markdown",
   "metadata": {},
   "source": [
    "**Already we have count column so casual and registered not make sense** "
   ]
  },
  {
   "cell_type": "code",
   "execution_count": 10,
   "metadata": {},
   "outputs": [
    {
     "data": {
      "text/plain": [
       "weekday\n",
       "0    444027\n",
       "1    455503\n",
       "2    469109\n",
       "3    473048\n",
       "4    485395\n",
       "5    487790\n",
       "6    477807\n",
       "Name: cnt, dtype: int64"
      ]
     },
     "execution_count": 10,
     "metadata": {},
     "output_type": "execute_result"
    }
   ],
   "source": [
    "df1.groupby(['weekday'])['cnt'].sum()"
   ]
  },
  {
   "cell_type": "code",
   "execution_count": 11,
   "metadata": {},
   "outputs": [
    {
     "data": {
      "text/plain": [
       "dteday        category\n",
       "season        category\n",
       "yr               int32\n",
       "mnth          category\n",
       "holiday          int32\n",
       "weekday       category\n",
       "workingday       int32\n",
       "weathersit    category\n",
       "temp           float64\n",
       "atemp          float64\n",
       "hum            float64\n",
       "windspeed      float64\n",
       "cnt              int64\n",
       "dtype: object"
      ]
     },
     "execution_count": 11,
     "metadata": {},
     "output_type": "execute_result"
    }
   ],
   "source": [
    "df1.dtypes"
   ]
  },
  {
   "cell_type": "code",
   "execution_count": 12,
   "metadata": {},
   "outputs": [
    {
     "data": {
      "text/plain": [
       "<matplotlib.axes._subplots.AxesSubplot at 0x291ec036358>"
      ]
     },
     "execution_count": 12,
     "metadata": {},
     "output_type": "execute_result"
    },
    {
     "data": {
      "image/png": "[encoded data removed]",
      "text/plain": [
       "<Figure size 432x288 with 1 Axes>"
      ]
     },
     "metadata": {
      "needs_background": "light"
     },
     "output_type": "display_data"
    }
   ],
   "source": [
    "#x=df1.groupby(['season'])['cnt'].sum()\n",
    "\n",
    "sns.barplot(x=df1['season'],y=df1['cnt'])"
   ]
  },
  {
   "cell_type": "code",
   "execution_count": 15,
   "metadata": {},
   "outputs": [
    {
     "data": {
      "text/plain": [
       "<matplotlib.axes._subplots.AxesSubplot at 0x291ee512128>"
      ]
     },
     "execution_count": 15,
     "metadata": {},
     "output_type": "execute_result"
    },
    {
     "data": {
      "image/png": "[encoded data removed]",
      "text/plain": [
       "<Figure size 432x288 with 1 Axes>"
      ]
     },
     "metadata": {
      "needs_background": "light"
     },
     "output_type": "display_data"
    }
   ],
   "source": [
    "sns.barplot(x=df1['weathersit'],y=df1['cnt'])"
   ]
  },
  {
   "cell_type": "markdown",
   "metadata": {},
   "source": [
    "**Grouping By month data to know the counts**"
   ]
  },
  {
   "cell_type": "code",
   "execution_count": 243,
   "metadata": {},
   "outputs": [
    {
     "data": {
      "text/plain": [
       "mnth\n",
       "1     134933\n",
       "2     151352\n",
       "3     228920\n",
       "4     269094\n",
       "5     331686\n",
       "6     346342\n",
       "7     344948\n",
       "8     351194\n",
       "9     345991\n",
       "10    322352\n",
       "11    254831\n",
       "12    211036\n",
       "Name: cnt, dtype: int64"
      ]
     },
     "execution_count": 243,
     "metadata": {},
     "output_type": "execute_result"
    }
   ],
   "source": [
    "df1.groupby(['mnth'])['cnt'].sum()"
   ]
  },
  {
   "cell_type": "code",
   "execution_count": null,
   "metadata": {},
   "outputs": [],
   "source": []
  },
  {
   "cell_type": "markdown",
   "metadata": {},
   "source": [
    "**More no. of renters are in April to Novermber . Considering 25K as reference.**"
   ]
  },
  {
   "cell_type": "code",
   "execution_count": 244,
   "metadata": {},
   "outputs": [],
   "source": [
    "df2011 = df1[df1['yr']==0]\n",
    "df2012 = df1[df1['yr']==1]\n",
    "#df1.groupby(['mnth'])['cnt'].sum()"
   ]
  },
  {
   "cell_type": "code",
   "execution_count": 245,
   "metadata": {},
   "outputs": [
    {
     "data": {
      "text/plain": [
       "mnth\n",
       "1      38189\n",
       "2      48215\n",
       "3      64045\n",
       "4      94870\n",
       "5     135821\n",
       "6     143512\n",
       "7     141341\n",
       "8     136691\n",
       "9     127418\n",
       "10    123511\n",
       "11    102167\n",
       "12     87323\n",
       "Name: cnt, dtype: int64"
      ]
     },
     "execution_count": 245,
     "metadata": {},
     "output_type": "execute_result"
    }
   ],
   "source": [
    "df2011.groupby(['mnth'])['cnt'].sum()"
   ]
  },
  {
   "cell_type": "code",
   "execution_count": 246,
   "metadata": {},
   "outputs": [
    {
     "data": {
      "text/plain": [
       "mnth\n",
       "1      96744\n",
       "2     103137\n",
       "3     164875\n",
       "4     174224\n",
       "5     195865\n",
       "6     202830\n",
       "7     203607\n",
       "8     214503\n",
       "9     218573\n",
       "10    198841\n",
       "11    152664\n",
       "12    123713\n",
       "Name: cnt, dtype: int64"
      ]
     },
     "execution_count": 246,
     "metadata": {},
     "output_type": "execute_result"
    }
   ],
   "source": [
    "df2012.groupby(['mnth'])['cnt'].sum()\n"
   ]
  },
  {
   "cell_type": "markdown",
   "metadata": {},
   "source": [
    "**We can see in the renters are more in case year 2012 and april to november the renting count goes higjh and then again it comes down.**"
   ]
  },
  {
   "cell_type": "markdown",
   "metadata": {},
   "source": [
    "**Approx mean in the year 2012**"
   ]
  },
  {
   "cell_type": "code",
   "execution_count": 247,
   "metadata": {},
   "outputs": [
    {
     "data": {
      "text/plain": [
       "mnth\n",
       "1     3120.774194\n",
       "2     3556.448276\n",
       "3     5318.548387\n",
       "4     5807.466667\n",
       "5     6318.225806\n",
       "6     6761.000000\n",
       "7     6567.967742\n",
       "8     6919.451613\n",
       "9     7285.766667\n",
       "10    6414.225806\n",
       "11    5088.800000\n",
       "12    3990.741935\n",
       "Name: cnt, dtype: float64"
      ]
     },
     "execution_count": 247,
     "metadata": {},
     "output_type": "execute_result"
    }
   ],
   "source": [
    "df2012.groupby(['mnth'])['cnt'].mean()"
   ]
  },
  {
   "cell_type": "code",
   "execution_count": 248,
   "metadata": {},
   "outputs": [
    {
     "data": {
      "text/plain": [
       "mnth\n",
       "1      872.852134\n",
       "2      870.724640\n",
       "3     1251.162682\n",
       "4     1308.938916\n",
       "5     1078.403997\n",
       "6      954.204995\n",
       "7      867.183736\n",
       "8      794.059017\n",
       "9      979.160925\n",
       "10    1941.819400\n",
       "11    1129.731198\n",
       "12    1803.227864\n",
       "Name: cnt, dtype: float64"
      ]
     },
     "execution_count": 248,
     "metadata": {},
     "output_type": "execute_result"
    }
   ],
   "source": [
    "df2012.groupby(['mnth'])['cnt'].std()\n"
   ]
  },
  {
   "cell_type": "code",
   "execution_count": 249,
   "metadata": {},
   "outputs": [
    {
     "data": {
      "text/plain": [
       "season\n",
       "1    150000\n",
       "2    347316\n",
       "3    419650\n",
       "4    326137\n",
       "Name: cnt, dtype: int64"
      ]
     },
     "execution_count": 249,
     "metadata": {},
     "output_type": "execute_result"
    }
   ],
   "source": [
    "df2011.groupby(['season'])['cnt'].sum()"
   ]
  },
  {
   "cell_type": "code",
   "execution_count": 250,
   "metadata": {},
   "outputs": [
    {
     "data": {
      "text/html": [
       "<div>\n",
       "<style scoped>\n",
       "    .dataframe tbody tr th:only-of-type {\n",
       "        vertical-align: middle;\n",
       "    }\n",
       "\n",
       "    .dataframe tbody tr th {\n",
       "        vertical-align: top;\n",
       "    }\n",
       "\n",
       "    .dataframe thead th {\n",
       "        text-align: right;\n",
       "    }\n",
       "</style>\n",
       "<table border=\"1\" class=\"dataframe\">\n",
       "  <thead>\n",
       "    <tr style=\"text-align: right;\">\n",
       "      <th></th>\n",
       "      <th>yr</th>\n",
       "      <th>holiday</th>\n",
       "      <th>workingday</th>\n",
       "      <th>temp</th>\n",
       "      <th>atemp</th>\n",
       "      <th>hum</th>\n",
       "      <th>windspeed</th>\n",
       "      <th>cnt</th>\n",
       "    </tr>\n",
       "  </thead>\n",
       "  <tbody>\n",
       "    <tr>\n",
       "      <th>yr</th>\n",
       "      <td>NaN</td>\n",
       "      <td>NaN</td>\n",
       "      <td>NaN</td>\n",
       "      <td>NaN</td>\n",
       "      <td>NaN</td>\n",
       "      <td>NaN</td>\n",
       "      <td>NaN</td>\n",
       "      <td>NaN</td>\n",
       "    </tr>\n",
       "    <tr>\n",
       "      <th>holiday</th>\n",
       "      <td>NaN</td>\n",
       "      <td>1.000000</td>\n",
       "      <td>-0.258418</td>\n",
       "      <td>-0.039023</td>\n",
       "      <td>-0.039663</td>\n",
       "      <td>0.001403</td>\n",
       "      <td>0.011686</td>\n",
       "      <td>-0.118134</td>\n",
       "    </tr>\n",
       "    <tr>\n",
       "      <th>workingday</th>\n",
       "      <td>NaN</td>\n",
       "      <td>-0.258418</td>\n",
       "      <td>1.000000</td>\n",
       "      <td>0.059342</td>\n",
       "      <td>0.059028</td>\n",
       "      <td>0.013291</td>\n",
       "      <td>-0.048955</td>\n",
       "      <td>0.118884</td>\n",
       "    </tr>\n",
       "    <tr>\n",
       "      <th>temp</th>\n",
       "      <td>NaN</td>\n",
       "      <td>-0.039023</td>\n",
       "      <td>0.059342</td>\n",
       "      <td>1.000000</td>\n",
       "      <td>0.986165</td>\n",
       "      <td>0.118262</td>\n",
       "      <td>-0.203691</td>\n",
       "      <td>0.713793</td>\n",
       "    </tr>\n",
       "    <tr>\n",
       "      <th>atemp</th>\n",
       "      <td>NaN</td>\n",
       "      <td>-0.039663</td>\n",
       "      <td>0.059028</td>\n",
       "      <td>0.986165</td>\n",
       "      <td>1.000000</td>\n",
       "      <td>0.134662</td>\n",
       "      <td>-0.233086</td>\n",
       "      <td>0.720314</td>\n",
       "    </tr>\n",
       "    <tr>\n",
       "      <th>hum</th>\n",
       "      <td>NaN</td>\n",
       "      <td>0.001403</td>\n",
       "      <td>0.013291</td>\n",
       "      <td>0.118262</td>\n",
       "      <td>0.134662</td>\n",
       "      <td>1.000000</td>\n",
       "      <td>-0.291031</td>\n",
       "      <td>-0.088861</td>\n",
       "    </tr>\n",
       "    <tr>\n",
       "      <th>windspeed</th>\n",
       "      <td>NaN</td>\n",
       "      <td>0.011686</td>\n",
       "      <td>-0.048955</td>\n",
       "      <td>-0.203691</td>\n",
       "      <td>-0.233086</td>\n",
       "      <td>-0.291031</td>\n",
       "      <td>1.000000</td>\n",
       "      <td>-0.279008</td>\n",
       "    </tr>\n",
       "    <tr>\n",
       "      <th>cnt</th>\n",
       "      <td>NaN</td>\n",
       "      <td>-0.118134</td>\n",
       "      <td>0.118884</td>\n",
       "      <td>0.713793</td>\n",
       "      <td>0.720314</td>\n",
       "      <td>-0.088861</td>\n",
       "      <td>-0.279008</td>\n",
       "      <td>1.000000</td>\n",
       "    </tr>\n",
       "  </tbody>\n",
       "</table>\n",
       "</div>"
      ],
      "text/plain": [
       "            yr   holiday  workingday      temp     atemp       hum  windspeed  \\\n",
       "yr         NaN       NaN         NaN       NaN       NaN       NaN        NaN   \n",
       "holiday    NaN  1.000000   -0.258418 -0.039023 -0.039663  0.001403   0.011686   \n",
       "workingday NaN -0.258418    1.000000  0.059342  0.059028  0.013291  -0.048955   \n",
       "temp       NaN -0.039023    0.059342  1.000000  0.986165  0.118262  -0.203691   \n",
       "atemp      NaN -0.039663    0.059028  0.986165  1.000000  0.134662  -0.233086   \n",
       "hum        NaN  0.001403    0.013291  0.118262  0.134662  1.000000  -0.291031   \n",
       "windspeed  NaN  0.011686   -0.048955 -0.203691 -0.233086 -0.291031   1.000000   \n",
       "cnt        NaN -0.118134    0.118884  0.713793  0.720314 -0.088861  -0.279008   \n",
       "\n",
       "                 cnt  \n",
       "yr               NaN  \n",
       "holiday    -0.118134  \n",
       "workingday  0.118884  \n",
       "temp        0.713793  \n",
       "atemp       0.720314  \n",
       "hum        -0.088861  \n",
       "windspeed  -0.279008  \n",
       "cnt         1.000000  "
      ]
     },
     "execution_count": 250,
     "metadata": {},
     "output_type": "execute_result"
    }
   ],
   "source": [
    "df2012.corr()"
   ]
  },
  {
   "cell_type": "code",
   "execution_count": 251,
   "metadata": {},
   "outputs": [
    {
     "data": {
      "text/plain": [
       "<matplotlib.axes._subplots.AxesSubplot at 0x26507eb7cf8>"
      ]
     },
     "execution_count": 251,
     "metadata": {},
     "output_type": "execute_result"
    },
    {
     "data": {
      "image/png": "[encoded data removed]",
      "text/plain": [
       "<Figure size 576x432 with 2 Axes>"
      ]
     },
     "metadata": {
      "needs_background": "light"
     },
     "output_type": "display_data"
    }
   ],
   "source": [
    "corr = df1.corr()\n",
    "plt.figure(figsize=(8,6))\n",
    "sns.heatmap(corr,mask = np.zeros_like(corr,dtype=np.bool),cmap='rainbow')"
   ]
  },
  {
   "cell_type": "markdown",
   "metadata": {},
   "source": [
    "**Co-relation between the columns can be clearly seen in heatmap , where darkred is the strong co related columns like \n",
    "\"temp,atemp with cnt\" , \"mnth , season with cnt\"**"
   ]
  },
  {
   "cell_type": "code",
   "execution_count": 252,
   "metadata": {},
   "outputs": [],
   "source": [
    "#df1[df1['mnth']==12]"
   ]
  },
  {
   "cell_type": "markdown",
   "metadata": {},
   "source": [
    "**atemp and temp carries same info so dropping atemp column for further analysis**"
   ]
  },
  {
   "cell_type": "code",
   "execution_count": null,
   "metadata": {},
   "outputs": [],
   "source": [
    "\n"
   ]
  },
  {
   "cell_type": "code",
   "execution_count": 254,
   "metadata": {},
   "outputs": [],
   "source": [
    "import statsmodels.api as sm"
   ]
  },
  {
   "cell_type": "code",
   "execution_count": 255,
   "metadata": {},
   "outputs": [
    {
     "data": {
      "text/html": [
       "<div>\n",
       "<style scoped>\n",
       "    .dataframe tbody tr th:only-of-type {\n",
       "        vertical-align: middle;\n",
       "    }\n",
       "\n",
       "    .dataframe tbody tr th {\n",
       "        vertical-align: top;\n",
       "    }\n",
       "\n",
       "    .dataframe thead th {\n",
       "        text-align: right;\n",
       "    }\n",
       "</style>\n",
       "<table border=\"1\" class=\"dataframe\">\n",
       "  <thead>\n",
       "    <tr style=\"text-align: right;\">\n",
       "      <th></th>\n",
       "      <th>dteday</th>\n",
       "      <th>season</th>\n",
       "      <th>yr</th>\n",
       "      <th>mnth</th>\n",
       "      <th>holiday</th>\n",
       "      <th>weekday</th>\n",
       "      <th>workingday</th>\n",
       "      <th>weathersit</th>\n",
       "      <th>temp</th>\n",
       "      <th>atemp</th>\n",
       "      <th>hum</th>\n",
       "      <th>windspeed</th>\n",
       "      <th>cnt</th>\n",
       "    </tr>\n",
       "  </thead>\n",
       "  <tbody>\n",
       "    <tr>\n",
       "      <th>0</th>\n",
       "      <td>01</td>\n",
       "      <td>1</td>\n",
       "      <td>0</td>\n",
       "      <td>1</td>\n",
       "      <td>0</td>\n",
       "      <td>6</td>\n",
       "      <td>0</td>\n",
       "      <td>2</td>\n",
       "      <td>0.344167</td>\n",
       "      <td>0.363625</td>\n",
       "      <td>0.805833</td>\n",
       "      <td>0.160446</td>\n",
       "      <td>985</td>\n",
       "    </tr>\n",
       "    <tr>\n",
       "      <th>1</th>\n",
       "      <td>02</td>\n",
       "      <td>1</td>\n",
       "      <td>0</td>\n",
       "      <td>1</td>\n",
       "      <td>0</td>\n",
       "      <td>0</td>\n",
       "      <td>0</td>\n",
       "      <td>2</td>\n",
       "      <td>0.363478</td>\n",
       "      <td>0.353739</td>\n",
       "      <td>0.696087</td>\n",
       "      <td>0.248539</td>\n",
       "      <td>801</td>\n",
       "    </tr>\n",
       "    <tr>\n",
       "      <th>2</th>\n",
       "      <td>03</td>\n",
       "      <td>1</td>\n",
       "      <td>0</td>\n",
       "      <td>1</td>\n",
       "      <td>0</td>\n",
       "      <td>1</td>\n",
       "      <td>1</td>\n",
       "      <td>1</td>\n",
       "      <td>0.196364</td>\n",
       "      <td>0.189405</td>\n",
       "      <td>0.437273</td>\n",
       "      <td>0.248309</td>\n",
       "      <td>1349</td>\n",
       "    </tr>\n",
       "    <tr>\n",
       "      <th>3</th>\n",
       "      <td>04</td>\n",
       "      <td>1</td>\n",
       "      <td>0</td>\n",
       "      <td>1</td>\n",
       "      <td>0</td>\n",
       "      <td>2</td>\n",
       "      <td>1</td>\n",
       "      <td>1</td>\n",
       "      <td>0.200000</td>\n",
       "      <td>0.212122</td>\n",
       "      <td>0.590435</td>\n",
       "      <td>0.160296</td>\n",
       "      <td>1562</td>\n",
       "    </tr>\n",
       "    <tr>\n",
       "      <th>4</th>\n",
       "      <td>05</td>\n",
       "      <td>1</td>\n",
       "      <td>0</td>\n",
       "      <td>1</td>\n",
       "      <td>0</td>\n",
       "      <td>3</td>\n",
       "      <td>1</td>\n",
       "      <td>1</td>\n",
       "      <td>0.226957</td>\n",
       "      <td>0.229270</td>\n",
       "      <td>0.436957</td>\n",
       "      <td>0.186900</td>\n",
       "      <td>1600</td>\n",
       "    </tr>\n",
       "  </tbody>\n",
       "</table>\n",
       "</div>"
      ],
      "text/plain": [
       "  dteday season  yr mnth  holiday weekday  workingday weathersit      temp  \\\n",
       "0     01      1   0    1        0       6           0          2  0.344167   \n",
       "1     02      1   0    1        0       0           0          2  0.363478   \n",
       "2     03      1   0    1        0       1           1          1  0.196364   \n",
       "3     04      1   0    1        0       2           1          1  0.200000   \n",
       "4     05      1   0    1        0       3           1          1  0.226957   \n",
       "\n",
       "      atemp       hum  windspeed   cnt  \n",
       "0  0.363625  0.805833   0.160446   985  \n",
       "1  0.353739  0.696087   0.248539   801  \n",
       "2  0.189405  0.437273   0.248309  1349  \n",
       "3  0.212122  0.590435   0.160296  1562  \n",
       "4  0.229270  0.436957   0.186900  1600  "
      ]
     },
     "execution_count": 255,
     "metadata": {},
     "output_type": "execute_result"
    }
   ],
   "source": [
    "df1.head()"
   ]
  },
  {
   "cell_type": "markdown",
   "metadata": {},
   "source": [
    "**Spliting data into training and testing set**"
   ]
  },
  {
   "cell_type": "code",
   "execution_count": null,
   "metadata": {},
   "outputs": [],
   "source": []
  },
  {
   "cell_type": "code",
   "execution_count": 256,
   "metadata": {},
   "outputs": [],
   "source": [
    "from sklearn.model_selection import train_test_split\n",
    "\n",
    "\n",
    "df1_linr=df1.copy()\n",
    "categorical = [\"season\", \"dteday\", \"weathersit\", \"mnth\",\"weekday\"]\n",
    "for i in categorical:\n",
    "    temp_c = pd.get_dummies(df1_linr[i], prefix = i)\n",
    "    df1_linr = df1_linr.join(temp_c)\n"
   ]
  },
  {
   "cell_type": "code",
   "execution_count": 257,
   "metadata": {},
   "outputs": [],
   "source": [
    "drop = ['dteday', 'season', 'weathersit', 'weekday', 'mnth','cnt']\n",
    "df1_linr = df1_linr.drop(drop, axis=1)\n",
    "df1_linr=df1_linr.join(df1['cnt'])\n"
   ]
  },
  {
   "cell_type": "code",
   "execution_count": 294,
   "metadata": {},
   "outputs": [],
   "source": [
    "X, y = train_test_split(df1_linr, test_size=0.2)\n",
    "model = sm.OLS(X['cnt'], X.iloc[:,0:63]).fit()\n"
   ]
  },
  {
   "cell_type": "code",
   "execution_count": 295,
   "metadata": {},
   "outputs": [],
   "source": [
    "predictions = model.predict(y.iloc[:,0:63])"
   ]
  },
  {
   "cell_type": "code",
   "execution_count": 278,
   "metadata": {},
   "outputs": [],
   "source": [
    "results = sm.OLS(df1_linr['cnt'], df1_linr).fit()"
   ]
  },
  {
   "cell_type": "code",
   "execution_count": 279,
   "metadata": {},
   "outputs": [
    {
     "name": "stdout",
     "output_type": "stream",
     "text": [
      "                            OLS Regression Results                            \n",
      "==============================================================================\n",
      "Dep. Variable:                    cnt   R-squared:                       1.000\n",
      "Model:                            OLS   Adj. R-squared:                  1.000\n",
      "Method:                 Least Squares   F-statistic:                 1.701e+30\n",
      "Date:                Sat, 28 Sep 2019   Prob (F-statistic):               0.00\n",
      "Time:                        23:51:47   Log-Likelihood:                 17984.\n",
      "No. Observations:                 731   AIC:                        -3.585e+04\n",
      "Df Residuals:                     671   BIC:                        -3.557e+04\n",
      "Df Model:                          59                                         \n",
      "Covariance Type:            nonrobust                                         \n",
      "================================================================================\n",
      "                   coef    std err          t      P>|t|      [0.025      0.975]\n",
      "--------------------------------------------------------------------------------\n",
      "yr            2.402e-12   6.65e-13      3.611      0.000     1.1e-12    3.71e-12\n",
      "holiday       2.041e-12   1.02e-12      1.996      0.046    3.28e-14    4.05e-12\n",
      "workingday   -1.755e-12   5.75e-13     -3.051      0.002   -2.88e-12   -6.25e-13\n",
      "temp         -1.248e-11    9.7e-12     -1.286      0.199   -3.15e-11    6.57e-12\n",
      "atemp         1.802e-11   1.01e-11      1.780      0.076   -1.86e-12    3.79e-11\n",
      "hum          -1.577e-12   2.06e-12     -0.765      0.445   -5.63e-12    2.47e-12\n",
      "windspeed     -1.13e-12   2.96e-12     -0.381      0.703   -6.95e-12    4.69e-12\n",
      "season_1      3.411e-12   9.21e-13      3.703      0.000     1.6e-12    5.22e-12\n",
      "season_2      -2.48e-12   9.46e-13     -2.621      0.009   -4.34e-12   -6.22e-13\n",
      "season_3      -1.93e-12   1.01e-12     -1.915      0.056   -3.91e-12    4.91e-14\n",
      "season_4     -8.384e-13   1.03e-12     -0.815      0.415   -2.86e-12    1.18e-12\n",
      "dteday_01    -9.148e-13   1.06e-12     -0.863      0.388      -3e-12    1.17e-12\n",
      "dteday_02    -1.119e-13   1.05e-12     -0.106      0.915   -2.18e-12    1.95e-12\n",
      "dteday_03    -1.325e-12   1.05e-12     -1.258      0.209   -3.39e-12    7.42e-13\n",
      "dteday_04     2.833e-13   1.06e-12      0.268      0.789   -1.79e-12    2.36e-12\n",
      "dteday_05    -6.892e-13   1.06e-12     -0.653      0.514   -2.76e-12    1.38e-12\n",
      "dteday_06    -1.065e-12   1.06e-12     -1.004      0.316   -3.15e-12    1.02e-12\n",
      "dteday_07    -4.396e-13   1.06e-12     -0.416      0.677   -2.51e-12    1.63e-12\n",
      "dteday_08    -1.148e-12   1.05e-12     -1.089      0.276   -3.22e-12    9.21e-13\n",
      "dteday_09     2.323e-12   1.05e-12      2.203      0.028    2.52e-13    4.39e-12\n",
      "dteday_10     1.172e-13   1.05e-12      0.111      0.911   -1.95e-12    2.18e-12\n",
      "dteday_11      9.53e-13   1.05e-12      0.905      0.366   -1.12e-12    3.02e-12\n",
      "dteday_12    -1.295e-12   1.06e-12     -1.226      0.221   -3.37e-12    7.79e-13\n",
      "dteday_13     4.148e-13   1.06e-12      0.392      0.695   -1.66e-12    2.49e-12\n",
      "dteday_14    -1.934e-12   1.06e-12     -1.831      0.068   -4.01e-12     1.4e-13\n",
      "dteday_15     6.026e-13   1.06e-12      0.569      0.569   -1.48e-12    2.68e-12\n",
      "dteday_16    -2.238e-13   1.06e-12     -0.211      0.833    -2.3e-12    1.85e-12\n",
      "dteday_17     1.906e-12   1.07e-12      1.777      0.076   -2.01e-13    4.01e-12\n",
      "dteday_18    -1.018e-12   1.06e-12     -0.960      0.338    -3.1e-12    1.06e-12\n",
      "dteday_19     5.791e-13   1.06e-12      0.548      0.584   -1.49e-12    2.65e-12\n",
      "dteday_20    -1.066e-13   1.06e-12     -0.101      0.920   -2.18e-12    1.97e-12\n",
      "dteday_21    -3.695e-13   1.07e-12     -0.346      0.730   -2.47e-12    1.73e-12\n",
      "dteday_22     1.057e-12   1.07e-12      0.992      0.322   -1.04e-12    3.15e-12\n",
      "dteday_23     8.438e-13   1.06e-12      0.797      0.426   -1.23e-12    2.92e-12\n",
      "dteday_24    -4.974e-13   1.06e-12     -0.470      0.638   -2.58e-12    1.58e-12\n",
      "dteday_25     1.521e-12   1.06e-12      1.439      0.151   -5.54e-13     3.6e-12\n",
      "dteday_26    -1.755e-12   1.06e-12     -1.658      0.098   -3.83e-12    3.23e-13\n",
      "dteday_27     -6.59e-13   1.07e-12     -0.618      0.537   -2.75e-12    1.43e-12\n",
      "dteday_28     2.061e-13   1.06e-12      0.194      0.846   -1.87e-12    2.29e-12\n",
      "dteday_29    -1.421e-14   1.09e-12     -0.013      0.990   -2.15e-12    2.12e-12\n",
      "dteday_30     6.821e-13    1.1e-12      0.619      0.536   -1.48e-12    2.85e-12\n",
      "dteday_31    -2.103e-12   1.39e-12     -1.516      0.130   -4.83e-12    6.21e-13\n",
      "weathersit_1 -2.061e-12   7.37e-13     -2.795      0.005   -3.51e-12   -6.13e-13\n",
      "weathersit_2 -5.684e-14   8.06e-13     -0.071      0.944   -1.64e-12    1.52e-12\n",
      "weathersit_3  2.593e-13   1.29e-12      0.200      0.841   -2.28e-12     2.8e-12\n",
      "mnth_1       -3.837e-13   1.16e-12     -0.331      0.741   -2.66e-12    1.89e-12\n",
      "mnth_2       -9.521e-13    1.1e-12     -0.862      0.389   -3.12e-12    1.22e-12\n",
      "mnth_3       -4.832e-13   8.57e-13     -0.564      0.573   -2.17e-12     1.2e-12\n",
      "mnth_4        9.486e-13   1.05e-12      0.903      0.367   -1.11e-12    3.01e-12\n",
      "mnth_5        3.588e-13   1.13e-12      0.318      0.750   -1.86e-12    2.57e-12\n",
      "mnth_6       -1.492e-12   1.08e-12     -1.380      0.168   -3.62e-12    6.31e-13\n",
      "mnth_7       -3.126e-13   1.27e-12     -0.247      0.805    -2.8e-12    2.18e-12\n",
      "mnth_8        1.023e-12   1.21e-12      0.844      0.399   -1.36e-12     3.4e-12\n",
      "mnth_9        6.395e-14   9.83e-13      0.065      0.948   -1.87e-12    1.99e-12\n",
      "mnth_10      -1.648e-12   1.07e-12     -1.535      0.125   -3.76e-12    4.61e-13\n",
      "mnth_11      -5.684e-13   1.12e-12     -0.509      0.611   -2.76e-12    1.63e-12\n",
      "mnth_12      -1.137e-13   9.67e-13     -0.118      0.906   -2.01e-12    1.78e-12\n",
      "weekday_0    -9.024e-13   7.53e-13     -1.199      0.231   -2.38e-12    5.75e-13\n",
      "weekday_1    -4.263e-13      5e-13     -0.853      0.394   -1.41e-12    5.55e-13\n",
      "weekday_2    -2.887e-14   5.25e-13     -0.055      0.956   -1.06e-12       1e-12\n",
      "weekday_3     3.388e-13   5.24e-13      0.647      0.518   -6.89e-13    1.37e-12\n",
      "weekday_4    -5.951e-14   5.15e-13     -0.116      0.908   -1.07e-12    9.51e-13\n",
      "weekday_5     3.428e-13   5.14e-13      0.667      0.505   -6.67e-13    1.35e-12\n",
      "weekday_6    -5.116e-13   7.58e-13     -0.675      0.500      -2e-12    9.77e-13\n",
      "cnt              1.0000   2.64e-16   3.79e+15      0.000       1.000       1.000\n",
      "==============================================================================\n",
      "Omnibus:                        8.586   Durbin-Watson:                   0.254\n",
      "Prob(Omnibus):                  0.014   Jarque-Bera (JB):                5.780\n",
      "Skew:                          -0.053   Prob(JB):                       0.0556\n",
      "Kurtosis:                       2.577   Cond. No.                     1.61e+20\n",
      "==============================================================================\n",
      "\n",
      "Warnings:\n",
      "[1] Standard Errors assume that the covariance matrix of the errors is correctly specified.\n",
      "[2] The smallest eigenvalue is 6.79e-31. This might indicate that there are\n",
      "strong multicollinearity problems or that the design matrix is singular.\n"
     ]
    }
   ],
   "source": [
    "print(results.summary())"
   ]
  },
  {
   "cell_type": "markdown",
   "metadata": {},
   "source": [
    "**From above OLS model we can confirm that this is stronmg fit as Rsquared value is 1**"
   ]
  },
  {
   "cell_type": "markdown",
   "metadata": {},
   "source": [
    "**Next apply Linear regression**"
   ]
  },
  {
   "cell_type": "code",
   "execution_count": 280,
   "metadata": {},
   "outputs": [],
   "source": [
    "from sklearn.linear_model import LinearRegression\n",
    "from sklearn.metrics import mean_absolute_error,mean_squared_error\n",
    "from math import sqrt\n",
    "#from sklearn.\n"
   ]
  },
  {
   "cell_type": "code",
   "execution_count": 281,
   "metadata": {},
   "outputs": [],
   "source": [
    "linr = LinearRegression()"
   ]
  },
  {
   "cell_type": "code",
   "execution_count": null,
   "metadata": {},
   "outputs": [],
   "source": []
  },
  {
   "cell_type": "markdown",
   "metadata": {},
   "source": [
    "**Now find the MAE(Root mean absolute  error in %)**"
   ]
  },
  {
   "cell_type": "code",
   "execution_count": 296,
   "metadata": {},
   "outputs": [],
   "source": [
    "def MAPE(y_test,predictions):\n",
    "    mape = np.mean(np.abs((y_test-predictions)/y_test))*100\n",
    "    return mape\n"
   ]
  },
  {
   "cell_type": "code",
   "execution_count": 297,
   "metadata": {},
   "outputs": [
    {
     "data": {
      "text/plain": [
       "21.39837956223615"
      ]
     },
     "execution_count": 297,
     "metadata": {},
     "output_type": "execute_result"
    }
   ],
   "source": [
    "MAPE(y['cnt'],predictions)"
   ]
  },
  {
   "cell_type": "markdown",
   "metadata": {},
   "source": [
    "**An error of 21 % can be observed which is ok**"
   ]
  },
  {
   "cell_type": "markdown",
   "metadata": {},
   "source": [
    "**lets try random forest now once or decision tree**"
   ]
  },
  {
   "cell_type": "code",
   "execution_count": 302,
   "metadata": {},
   "outputs": [],
   "source": [
    "########## Random Forest ################\n",
    "df1_RF = df1.drop('atemp',axis=1)\n",
    "\n"
   ]
  },
  {
   "cell_type": "code",
   "execution_count": 340,
   "metadata": {},
   "outputs": [],
   "source": [
    "from sklearn.ensemble import RandomForestClassifier,RandomForestRegressor\n",
    "\n",
    "train,test = train_test_split(df1_RF,test_size = 0.2)\n",
    "\n"
   ]
  },
  {
   "cell_type": "code",
   "execution_count": 346,
   "metadata": {},
   "outputs": [],
   "source": [
    "RFmodel = RandomForestRegressor(n_estimators = 200).fit(df1_RF.iloc[:,0:11], df1_RF.iloc[:,11])\n",
    "RF_Predictions = RFmodel.predict(test.iloc[:,0:11])"
   ]
  },
  {
   "cell_type": "code",
   "execution_count": 347,
   "metadata": {},
   "outputs": [
    {
     "data": {
      "text/plain": [
       "6.328395699324122"
      ]
     },
     "execution_count": 347,
     "metadata": {},
     "output_type": "execute_result"
    }
   ],
   "source": [
    "### Same MAPE function here \n",
    "\n",
    "MAPE(test['cnt'],RF_Predictions)"
   ]
  },
  {
   "cell_type": "markdown",
   "metadata": {},
   "source": [
    "**With Random Forest the MAPE is less so prediction will be done with MAPE only**"
   ]
  },
  {
   "cell_type": "code",
   "execution_count": 343,
   "metadata": {},
   "outputs": [],
   "source": [
    "result=pd.DataFrame(test.iloc[:,0:11])\n",
    "result['pred_cnt'] = (RF_Predictions)\n",
    "\n",
    "result.to_csv(\"Random_forest_res_bike_renting.csv\",index=False)"
   ]
  },
  {
   "cell_type": "code",
   "execution_count": 350,
   "metadata": {},
   "outputs": [],
   "source": [
    "result=pd.DataFrame(test.iloc[:,0:11])\n",
    "result['pred_cnt'] = (predictions)\n",
    "\n",
    "result.to_csv(\"Linear_Predictions_res_bike_renting.csv\",index=False)"
   ]
  },
  {
   "cell_type": "code",
   "execution_count": 349,
   "metadata": {},
   "outputs": [],
   "source": [
    "## THE END"
   ]
  },
  {
   "cell_type": "code",
   "execution_count": null,
   "metadata": {},
   "outputs": [],
   "source": []
  }
 ],
 "metadata": {
  "kernelspec": {
   "display_name": "Python 3",
   "language": "python",
   "name": "python3"
  },
  "language_info": {
   "codemirror_mode": {
    "name": "ipython",
    "version": 3
   },
   "file_extension": ".py",
   "mimetype": "text/x-python",
   "name": "python",
   "nbconvert_exporter": "python",
   "pygments_lexer": "ipython3",
   "version": "3.7.2"
  }
 },
 "nbformat": 4,
 "nbformat_minor": 2
}

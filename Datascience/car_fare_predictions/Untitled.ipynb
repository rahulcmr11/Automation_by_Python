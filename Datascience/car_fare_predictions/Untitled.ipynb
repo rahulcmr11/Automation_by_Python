{
 "cells": [
  {
   "cell_type": "code",
   "execution_count": 20,
   "metadata": {},
   "outputs": [],
   "source": [
    "import json\n",
    "import pandas as pd\n",
    "import os \n",
    "file= 'C:/Users/212586594/Desktop/All_Imp/data Science/assignmnet/Portfolio/Portfolio_3/project3_submission/instance-definition.json'"
   ]
  },
  {
   "cell_type": "code",
   "execution_count": 28,
   "metadata": {},
   "outputs": [
    {
     "name": "stdout",
     "output_type": "stream",
     "text": [
      "[{'ParameterKey': 'NotebookInstanceType', 'ParameterValue': 'ml.t2.medium'}, {'ParameterKey': 'cftstackname', 'ParameterValue': 'MLPlatform-sagemaker-Dev'}, {'ParameterKey': 'NotebookInstanceName', 'ParameterValue': 'sagemaker-dummynb-4'}, {'ParameterKey': 'SageMakerRoleArn', 'ParameterValue': 'arn:aws:iam::158366596870:role/service-role/AmazonSageMaker-ExecutionRole-20190201T141485'}, {'ParameterKey': 'VPC', 'ParameterValue': 'vpc-0936c49acae424745'}, {'ParameterKey': 'SubnetId', 'ParameterValue': 'subnet-0736bd90af654ea68'}, {'ParameterKey': 'SecurityGroupId', 'ParameterValue': 'sg-d186609e'}, {'ParameterKey': 'LifecycleConfigName', 'ParameterValue': 'refer-notebook-name'}, {'ParameterKey': 'TagKey', 'ParameterValue': 'Name'}, {'ParameterKey': 'TagId', 'ParameterValue': 'UAI5000003'}, {'ParameterKey': 'DirectInternetAccess', 'ParameterValue': 'Enabled'}, {'ParameterKey': 'emailsender', 'ParameterValue': '212586594@ge.com'}, {'ParameterKey': 'emailreceivers', 'ParameterValue': '212586594@ge.com'}, {'ParameterKey': 'multiplereceivers', 'ParameterValue': \"Add multiple_receivers in single quotes('')..this key/values is  for ignorance only\"}, {'ParameterKey': 'SageMakerS3Bucket', 'ParameterValue': 'NotebookInstanceName'}]\n"
     ]
    }
   ],
   "source": [
    "with open(file) as f:\n",
    "    data = json.load(f)\n",
    "print (data)    \n",
    "df1 = pd.DataFrame(data)\n",
    "df1['ParameterKey']=='NotebookInstanceName'\n",
    "nb_name=df1.loc[df1['ParameterKey']=='NotebookInstanceName']['ParameterValue'].values[0]\n",
    "        "
   ]
  },
  {
   "cell_type": "code",
   "execution_count": 22,
   "metadata": {},
   "outputs": [
    {
     "name": "stdout",
     "output_type": "stream",
     "text": [
      "*************************************************** sagemaker-dummynb-4\n"
     ]
    }
   ],
   "source": [
    "print(\"***************************************************\",nb_name)"
   ]
  },
  {
   "cell_type": "code",
   "execution_count": 23,
   "metadata": {},
   "outputs": [],
   "source": [
    "stack_name = df1.loc[df1['ParameterKey']=='cftstackname']['ParameterValue'].values[0]\n",
    "sender = df1.loc[df1['ParameterKey']=='emailsender']['ParameterValue'].values[0]\n",
    "receivers = df1.loc[df1['ParameterKey']=='emailreceivers']['ParameterValue'].values[0]"
   ]
  },
  {
   "cell_type": "code",
   "execution_count": 24,
   "metadata": {},
   "outputs": [
    {
     "name": "stdout",
     "output_type": "stream",
     "text": [
      "*************************************************** MLPlatform-sagemaker-Dev\n",
      "*************************************************** 212586594@ge.com\n",
      "*************************************************** 212586594@ge.com\n"
     ]
    }
   ],
   "source": [
    "print(\"***************************************************\",stack_name)\n",
    "print(\"***************************************************\",sender)\n",
    "print(\"***************************************************\",receivers)"
   ]
  },
  {
   "cell_type": "code",
   "execution_count": 26,
   "metadata": {},
   "outputs": [
    {
     "ename": "SyntaxError",
     "evalue": "invalid syntax (<ipython-input-26-8ee79d4769f8>, line 2)",
     "output_type": "error",
     "traceback": [
      "\u001b[1;36m  File \u001b[1;32m\"<ipython-input-26-8ee79d4769f8>\"\u001b[1;36m, line \u001b[1;32m2\u001b[0m\n\u001b[1;33m    NotebookInstanceLifecycleConfigName='string',\u001b[0m\n\u001b[1;37m                                       ^\u001b[0m\n\u001b[1;31mSyntaxError\u001b[0m\u001b[1;31m:\u001b[0m invalid syntax\n"
     ]
    }
   ],
   "source": [
    "response = (\n",
    "    NotebookInstanceLifecycleConfigName='string',\n",
    "    OnCreate=[\n",
    "        {\n",
    "            'Content': 'string'\n",
    "        },\n",
    "    ],\n",
    "    OnStart=[\n",
    "        {\n",
    "            'Content': 'string'\n",
    "        },\n",
    "    ]\n",
    ")"
   ]
  },
  {
   "cell_type": "code",
   "execution_count": 5,
   "metadata": {},
   "outputs": [],
   "source": [
    "x= [[0 for i in range(3)] for j in range(1)]"
   ]
  },
  {
   "cell_type": "code",
   "execution_count": 6,
   "metadata": {},
   "outputs": [
    {
     "data": {
      "text/plain": [
       "[[0, 0, 0]]"
      ]
     },
     "execution_count": 6,
     "metadata": {},
     "output_type": "execute_result"
    }
   ],
   "source": [
    "x"
   ]
  },
  {
   "cell_type": "code",
   "execution_count": null,
   "metadata": {},
   "outputs": [],
   "source": []
  }
 ],
 "metadata": {
  "kernelspec": {
   "display_name": "Python 3",
   "language": "python",
   "name": "python3"
  },
  "language_info": {
   "codemirror_mode": {
    "name": "ipython",
    "version": 3
   },
   "file_extension": ".py",
   "mimetype": "text/x-python",
   "name": "python",
   "nbconvert_exporter": "python",
   "pygments_lexer": "ipython3",
   "version": "3.7.2"
  }
 },
 "nbformat": 4,
 "nbformat_minor": 2
}

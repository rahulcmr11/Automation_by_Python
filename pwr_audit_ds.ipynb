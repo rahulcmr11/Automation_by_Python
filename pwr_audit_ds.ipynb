{
 "cells": [
  {
   "cell_type": "markdown",
   "metadata": {},
   "source": [
    "**Tables are loaded via HVR into GP datalake from various ERPs.**\n",
    "\n",
    "**Hash Audit is done to check if source and target tables are in sync and data is same.**\n",
    "\n",
    "**For Hash Audit we are using a java script which is scheduled to  run daily for all the source systems.**\n",
    "\n",
    "**After running hash audit on any source system the results are stored in data_audit_results table .\n",
    "using that data of  data_audit_results table to find out below things .**\n",
    "\n",
    "     1. If there is any common failure pattern ? eg. a table always failing for Pk only error\n",
    "     2. Which source system/table has the highest no. failures ?\n",
    "     3. Which day of the week failures are more ?\n",
    "     4. Which source_system/table has highest % of errors ?\n",
    "    "
   ]
  },
  {
   "cell_type": "code",
   "execution_count": 1,
   "metadata": {},
   "outputs": [],
   "source": [
    "import psycopg2\n",
    "import pandas as pd\n",
    "import seaborn as sns\n",
    "import matplotlib.pyplot as plt\n",
    "%matplotlib inline\n",
    "#from sshtunnel import SSHTunnelForwarder\n",
    "import getpass\n",
    "import datetime\n",
    "#import dask.dataframe as dd\n",
    "#import dask.array as da"
   ]
  },
  {
   "cell_type": "markdown",
   "metadata": {},
   "source": [
    "**Considering the sample data for 1 month from data_audit_results table** *(Max which my machine will support)*\n",
    "\n",
    "**Data was brought into local by using pg_dump.**\n"
   ]
  },
  {
   "cell_type": "code",
   "execution_count": 2,
   "metadata": {},
   "outputs": [],
   "source": [
    "#c_size =5000\n",
    "df_raw = pd.read_csv('C:/GE_WORKS/audit.csv',sep=',',index_col=0)# contains 1 month data due to infra constraint)\n"
   ]
  },
  {
   "cell_type": "code",
   "execution_count": 3,
   "metadata": {},
   "outputs": [
    {
     "data": {
      "text/plain": [
       "Index(['end_time', 'audit_type', 'source_system_name', 'table_name',\n",
       "       'total_in_source', 'total_in_mirror', 'source_only_count',\n",
       "       'source_only_keys', 'mirror_only_count', 'mirror_only_keys',\n",
       "       'mismatch_count', 'mismatch_keys', 'source_query', 'target_query',\n",
       "       'status', 'environment', 'source_only_error_percent',\n",
       "       'mirror_only_error_percent', 'mismatch_error_percent', 'audited_date',\n",
       "       'revalidation', 'target_name', 'overll_source_count',\n",
       "       'overall_target_count', 'reason', 'latency_keys'],\n",
       "      dtype='object')"
      ]
     },
     "execution_count": 3,
     "metadata": {},
     "output_type": "execute_result"
    }
   ],
   "source": [
    "df_raw.columns"
   ]
  },
  {
   "cell_type": "code",
   "execution_count": 4,
   "metadata": {},
   "outputs": [],
   "source": [
    "audit = df_raw[['source_system_name','table_name', 'total_in_source', 'total_in_mirror', 'source_only_count','mirror_only_count','mismatch_count','source_only_error_percent','mirror_only_error_percent', 'mismatch_error_percent', 'audited_date','target_name']].copy()\n",
    "\n",
    "audit['audited_date'] = pd.to_datetime(df_raw['audited_date'], errors='coerce')"
   ]
  },
  {
   "cell_type": "markdown",
   "metadata": {},
   "source": [
    "**Sample rows of table**"
   ]
  },
  {
   "cell_type": "code",
   "execution_count": 5,
   "metadata": {},
   "outputs": [
    {
     "data": {
      "text/html": [
       "<div>\n",
       "<style scoped>\n",
       "    .dataframe tbody tr th:only-of-type {\n",
       "        vertical-align: middle;\n",
       "    }\n",
       "\n",
       "    .dataframe tbody tr th {\n",
       "        vertical-align: top;\n",
       "    }\n",
       "\n",
       "    .dataframe thead th {\n",
       "        text-align: right;\n",
       "    }\n",
       "</style>\n",
       "<table border=\"1\" class=\"dataframe\">\n",
       "  <thead>\n",
       "    <tr style=\"text-align: right;\">\n",
       "      <th></th>\n",
       "      <th>source_system_name</th>\n",
       "      <th>table_name</th>\n",
       "      <th>total_in_source</th>\n",
       "      <th>total_in_mirror</th>\n",
       "      <th>source_only_count</th>\n",
       "      <th>mirror_only_count</th>\n",
       "      <th>mismatch_count</th>\n",
       "      <th>source_only_error_percent</th>\n",
       "      <th>mirror_only_error_percent</th>\n",
       "      <th>mismatch_error_percent</th>\n",
       "      <th>audited_date</th>\n",
       "      <th>target_name</th>\n",
       "    </tr>\n",
       "    <tr>\n",
       "      <th>start_time</th>\n",
       "      <th></th>\n",
       "      <th></th>\n",
       "      <th></th>\n",
       "      <th></th>\n",
       "      <th></th>\n",
       "      <th></th>\n",
       "      <th></th>\n",
       "      <th></th>\n",
       "      <th></th>\n",
       "      <th></th>\n",
       "      <th></th>\n",
       "      <th></th>\n",
       "    </tr>\n",
       "  </thead>\n",
       "  <tbody>\n",
       "    <tr>\n",
       "      <th>2019-04-16 06:00:06</th>\n",
       "      <td>PNUNOP01</td>\n",
       "      <td>qp_qualifiers</td>\n",
       "      <td>0</td>\n",
       "      <td>0</td>\n",
       "      <td>0</td>\n",
       "      <td>0</td>\n",
       "      <td>0</td>\n",
       "      <td>0</td>\n",
       "      <td>0</td>\n",
       "      <td>0</td>\n",
       "      <td>2019-04-15</td>\n",
       "      <td>PWR</td>\n",
       "    </tr>\n",
       "    <tr>\n",
       "      <th>2019-04-16 12:10:07</th>\n",
       "      <td>GPW_POWERMAX_400_PROD</td>\n",
       "      <td>lips</td>\n",
       "      <td>828</td>\n",
       "      <td>828</td>\n",
       "      <td>0</td>\n",
       "      <td>0</td>\n",
       "      <td>828</td>\n",
       "      <td>0</td>\n",
       "      <td>0</td>\n",
       "      <td>0</td>\n",
       "      <td>2019-04-15</td>\n",
       "      <td>PWR</td>\n",
       "    </tr>\n",
       "    <tr>\n",
       "      <th>2019-04-16 06:00:06</th>\n",
       "      <td>PNUNOP01</td>\n",
       "      <td>gl_je_lines</td>\n",
       "      <td>34596</td>\n",
       "      <td>34596</td>\n",
       "      <td>0</td>\n",
       "      <td>0</td>\n",
       "      <td>0</td>\n",
       "      <td>0</td>\n",
       "      <td>0</td>\n",
       "      <td>0</td>\n",
       "      <td>2019-04-15</td>\n",
       "      <td>PWR</td>\n",
       "    </tr>\n",
       "    <tr>\n",
       "      <th>2019-04-16 12:10:07</th>\n",
       "      <td>GPW_POWERMAX_400_PROD</td>\n",
       "      <td>vbrk</td>\n",
       "      <td>13</td>\n",
       "      <td>13</td>\n",
       "      <td>0</td>\n",
       "      <td>0</td>\n",
       "      <td>13</td>\n",
       "      <td>0</td>\n",
       "      <td>0</td>\n",
       "      <td>0</td>\n",
       "      <td>2019-04-15</td>\n",
       "      <td>PWR</td>\n",
       "    </tr>\n",
       "    <tr>\n",
       "      <th>2019-04-16 06:00:06</th>\n",
       "      <td>PNUNOP01</td>\n",
       "      <td>fa_categories_b</td>\n",
       "      <td>0</td>\n",
       "      <td>0</td>\n",
       "      <td>0</td>\n",
       "      <td>0</td>\n",
       "      <td>0</td>\n",
       "      <td>0</td>\n",
       "      <td>0</td>\n",
       "      <td>0</td>\n",
       "      <td>2019-04-15</td>\n",
       "      <td>PWR</td>\n",
       "    </tr>\n",
       "  </tbody>\n",
       "</table>\n",
       "</div>"
      ],
      "text/plain": [
       "                        source_system_name       table_name  total_in_source  \\\n",
       "start_time                                                                     \n",
       "2019-04-16 06:00:06               PNUNOP01    qp_qualifiers                0   \n",
       "2019-04-16 12:10:07  GPW_POWERMAX_400_PROD             lips              828   \n",
       "2019-04-16 06:00:06               PNUNOP01      gl_je_lines            34596   \n",
       "2019-04-16 12:10:07  GPW_POWERMAX_400_PROD             vbrk               13   \n",
       "2019-04-16 06:00:06               PNUNOP01  fa_categories_b                0   \n",
       "\n",
       "                     total_in_mirror  source_only_count  mirror_only_count  \\\n",
       "start_time                                                                   \n",
       "2019-04-16 06:00:06                0                  0                  0   \n",
       "2019-04-16 12:10:07              828                  0                  0   \n",
       "2019-04-16 06:00:06            34596                  0                  0   \n",
       "2019-04-16 12:10:07               13                  0                  0   \n",
       "2019-04-16 06:00:06                0                  0                  0   \n",
       "\n",
       "                     mismatch_count  source_only_error_percent  \\\n",
       "start_time                                                       \n",
       "2019-04-16 06:00:06               0                          0   \n",
       "2019-04-16 12:10:07             828                          0   \n",
       "2019-04-16 06:00:06               0                          0   \n",
       "2019-04-16 12:10:07              13                          0   \n",
       "2019-04-16 06:00:06               0                          0   \n",
       "\n",
       "                     mirror_only_error_percent  mismatch_error_percent  \\\n",
       "start_time                                                               \n",
       "2019-04-16 06:00:06                          0                       0   \n",
       "2019-04-16 12:10:07                          0                       0   \n",
       "2019-04-16 06:00:06                          0                       0   \n",
       "2019-04-16 12:10:07                          0                       0   \n",
       "2019-04-16 06:00:06                          0                       0   \n",
       "\n",
       "                    audited_date target_name  \n",
       "start_time                                    \n",
       "2019-04-16 06:00:06   2019-04-15         PWR  \n",
       "2019-04-16 12:10:07   2019-04-15         PWR  \n",
       "2019-04-16 06:00:06   2019-04-15         PWR  \n",
       "2019-04-16 12:10:07   2019-04-15         PWR  \n",
       "2019-04-16 06:00:06   2019-04-15         PWR  "
      ]
     },
     "execution_count": 5,
     "metadata": {},
     "output_type": "execute_result"
    }
   ],
   "source": [
    "audit.head(5)"
   ]
  },
  {
   "cell_type": "markdown",
   "metadata": {},
   "source": [
    "**We are splitting the column audited date into Week_no and  Week_day**\n",
    "\n",
    "**The week day is left shited by 1 value as the audit runs for previous day**\n",
    "\n",
    "**Week Day --> Monday is 0 and goes till Sunday as --> 6**"
   ]
  },
  {
   "cell_type": "code",
   "execution_count": 6,
   "metadata": {},
   "outputs": [],
   "source": [
    "audit['Week_no'] = audit['audited_date'].dt.week\n",
    "\n",
    "audit['Weekday'] = (audit['audited_date'] - datetime.timedelta(days=1)).dt.weekday"
   ]
  },
  {
   "cell_type": "code",
   "execution_count": 7,
   "metadata": {},
   "outputs": [
    {
     "data": {
      "text/html": [
       "<div>\n",
       "<style scoped>\n",
       "    .dataframe tbody tr th:only-of-type {\n",
       "        vertical-align: middle;\n",
       "    }\n",
       "\n",
       "    .dataframe tbody tr th {\n",
       "        vertical-align: top;\n",
       "    }\n",
       "\n",
       "    .dataframe thead th {\n",
       "        text-align: right;\n",
       "    }\n",
       "</style>\n",
       "<table border=\"1\" class=\"dataframe\">\n",
       "  <thead>\n",
       "    <tr style=\"text-align: right;\">\n",
       "      <th></th>\n",
       "      <th>source_system_name</th>\n",
       "      <th>table_name</th>\n",
       "      <th>total_in_source</th>\n",
       "      <th>total_in_mirror</th>\n",
       "      <th>source_only_count</th>\n",
       "      <th>mirror_only_count</th>\n",
       "      <th>mismatch_count</th>\n",
       "      <th>source_only_error_percent</th>\n",
       "      <th>mirror_only_error_percent</th>\n",
       "      <th>mismatch_error_percent</th>\n",
       "      <th>audited_date</th>\n",
       "      <th>target_name</th>\n",
       "      <th>Week_no</th>\n",
       "      <th>Weekday</th>\n",
       "    </tr>\n",
       "    <tr>\n",
       "      <th>start_time</th>\n",
       "      <th></th>\n",
       "      <th></th>\n",
       "      <th></th>\n",
       "      <th></th>\n",
       "      <th></th>\n",
       "      <th></th>\n",
       "      <th></th>\n",
       "      <th></th>\n",
       "      <th></th>\n",
       "      <th></th>\n",
       "      <th></th>\n",
       "      <th></th>\n",
       "      <th></th>\n",
       "      <th></th>\n",
       "    </tr>\n",
       "  </thead>\n",
       "  <tbody>\n",
       "    <tr>\n",
       "      <th>2019-04-16 06:00:06</th>\n",
       "      <td>PNUNOP01</td>\n",
       "      <td>qp_qualifiers</td>\n",
       "      <td>0</td>\n",
       "      <td>0</td>\n",
       "      <td>0</td>\n",
       "      <td>0</td>\n",
       "      <td>0</td>\n",
       "      <td>0</td>\n",
       "      <td>0</td>\n",
       "      <td>0</td>\n",
       "      <td>2019-04-15</td>\n",
       "      <td>PWR</td>\n",
       "      <td>16</td>\n",
       "      <td>6</td>\n",
       "    </tr>\n",
       "    <tr>\n",
       "      <th>2019-04-16 12:10:07</th>\n",
       "      <td>GPW_POWERMAX_400_PROD</td>\n",
       "      <td>lips</td>\n",
       "      <td>828</td>\n",
       "      <td>828</td>\n",
       "      <td>0</td>\n",
       "      <td>0</td>\n",
       "      <td>828</td>\n",
       "      <td>0</td>\n",
       "      <td>0</td>\n",
       "      <td>0</td>\n",
       "      <td>2019-04-15</td>\n",
       "      <td>PWR</td>\n",
       "      <td>16</td>\n",
       "      <td>6</td>\n",
       "    </tr>\n",
       "  </tbody>\n",
       "</table>\n",
       "</div>"
      ],
      "text/plain": [
       "                        source_system_name     table_name  total_in_source  \\\n",
       "start_time                                                                   \n",
       "2019-04-16 06:00:06               PNUNOP01  qp_qualifiers                0   \n",
       "2019-04-16 12:10:07  GPW_POWERMAX_400_PROD           lips              828   \n",
       "\n",
       "                     total_in_mirror  source_only_count  mirror_only_count  \\\n",
       "start_time                                                                   \n",
       "2019-04-16 06:00:06                0                  0                  0   \n",
       "2019-04-16 12:10:07              828                  0                  0   \n",
       "\n",
       "                     mismatch_count  source_only_error_percent  \\\n",
       "start_time                                                       \n",
       "2019-04-16 06:00:06               0                          0   \n",
       "2019-04-16 12:10:07             828                          0   \n",
       "\n",
       "                     mirror_only_error_percent  mismatch_error_percent  \\\n",
       "start_time                                                               \n",
       "2019-04-16 06:00:06                          0                       0   \n",
       "2019-04-16 12:10:07                          0                       0   \n",
       "\n",
       "                    audited_date target_name  Week_no  Weekday  \n",
       "start_time                                                      \n",
       "2019-04-16 06:00:06   2019-04-15         PWR       16        6  \n",
       "2019-04-16 12:10:07   2019-04-15         PWR       16        6  "
      ]
     },
     "execution_count": 7,
     "metadata": {},
     "output_type": "execute_result"
    }
   ],
   "source": [
    "audit.head(2)"
   ]
  },
  {
   "cell_type": "code",
   "execution_count": 8,
   "metadata": {},
   "outputs": [
    {
     "data": {
      "text/plain": [
       "Index(['source_system_name', 'table_name', 'total_in_source',\n",
       "       'total_in_mirror', 'source_only_count', 'mirror_only_count',\n",
       "       'mismatch_count', 'source_only_error_percent',\n",
       "       'mirror_only_error_percent', 'mismatch_error_percent', 'audited_date',\n",
       "       'target_name', 'Week_no', 'Weekday'],\n",
       "      dtype='object')"
      ]
     },
     "execution_count": 8,
     "metadata": {},
     "output_type": "execute_result"
    }
   ],
   "source": [
    "#plot_data = df_1.astype(float)\n",
    "audit.columns\n",
    "\n"
   ]
  },
  {
   "cell_type": "markdown",
   "metadata": {},
   "source": [
    "**Bucketing the errors and based on below column conditions we are creating a new column as error_type**\n",
    "\n",
    "**('source_only_count' > 0 & 'mirror_only_count' >  0 & 'mismatch_count' > 0)                    -->*all_mismatch**\n",
    "                                                                                        \n",
    "**('source_only_count' > 0 & 'mirror_only_count' == 0 & 'mismatch_count'== 0)                    -->*src_only**\n",
    "                                                                                        \n",
    "**('source_only_count' > 0 & 'mirror_only_count' >  0 & 'mismatch_count'== 0)                    -->*src_and_mirror**\n",
    "                                                                                        \n",
    "**('source_only_count' > 0 & 'mirror_only_count' == 0 & 'mismatch_count'>  0)                    -->*src_and_pk**\n",
    "                                                                                        \n",
    "**('source_only_count' == 0 & 'mirror_only_count' > 0 & 'mismatch_count'>  0)                    -->*mirror_and_pk**\n",
    "                                                                                        \n",
    "**('source_only_count' == 0 & 'mirror_only_count'== 0 & 'mismatch_count' > 0)                    -->*pk_only**\n",
    "                                                                                        \n",
    "**('source_only_count'==  0 & 'mirror_only_count' > 0 & 'mismatch_count'== 0)                    -->*mirror_only**\n",
    "                                                                                        \n",
    "**('source_only_count' == 0 & 'mirror_only_count'== 0 & 'mismatch_count'== 0)                    -->*no_error**"
   ]
  },
  {
   "cell_type": "code",
   "execution_count": 9,
   "metadata": {},
   "outputs": [],
   "source": [
    "import numpy as np\n",
    "#choices = ['all_mismatch','src_only']\n",
    "choices = ['all_mismatch','src_only','src_and_mirror','src_and_pk','mirror_and_pk','pk_only','mirror_only','no_error']\n",
    "#conditions = [(df_1['source_only_count'] > 0) & (df_1['mirror_only_count'] > 0) & (df_1['mismatch_count'] > 0),(df_1['source_only_count'] > 0) & (df_1['mirror_only_count'] == 0) & (df_1['mismatch_count']== 0)] \n",
    "conditions = [(audit['source_only_count'] > 0) & (audit['mirror_only_count'] > 0) & (audit['mismatch_count'] > 0),(audit['source_only_count'] > 0) & (audit['mirror_only_count'] == 0) & (audit['mismatch_count']== 0),(audit['source_only_count'] > 0) & (audit['mirror_only_count'] > 0) & (audit['mismatch_count']== 0),(audit['source_only_count'] > 0) & (audit['mirror_only_count'] == 0) & (audit['mismatch_count']> 0),(audit['source_only_count'] == 0) & (audit['mirror_only_count'] > 0) & (audit['mismatch_count']> 0),(audit['source_only_count'] == 0) & (audit['mirror_only_count'] == 0) & (audit['mismatch_count'] > 0),(audit['source_only_count']== 0) & (audit['mirror_only_count'] > 0) & (audit['mismatch_count']== 0),(audit['source_only_count'] == 0) & (audit['mirror_only_count'] == 0) & (audit['mismatch_count']== 0)]\n",
    "pwr_audit = audit"
   ]
  },
  {
   "cell_type": "code",
   "execution_count": 10,
   "metadata": {},
   "outputs": [],
   "source": [
    "pwr_audit['err_type'] = np.select(conditions, choices, default='None')\n"
   ]
  },
  {
   "cell_type": "code",
   "execution_count": 11,
   "metadata": {},
   "outputs": [
    {
     "data": {
      "text/html": [
       "<div>\n",
       "<style scoped>\n",
       "    .dataframe tbody tr th:only-of-type {\n",
       "        vertical-align: middle;\n",
       "    }\n",
       "\n",
       "    .dataframe tbody tr th {\n",
       "        vertical-align: top;\n",
       "    }\n",
       "\n",
       "    .dataframe thead th {\n",
       "        text-align: right;\n",
       "    }\n",
       "</style>\n",
       "<table border=\"1\" class=\"dataframe\">\n",
       "  <thead>\n",
       "    <tr style=\"text-align: right;\">\n",
       "      <th></th>\n",
       "      <th>source_system_name</th>\n",
       "      <th>table_name</th>\n",
       "      <th>total_in_source</th>\n",
       "      <th>total_in_mirror</th>\n",
       "      <th>source_only_count</th>\n",
       "      <th>mirror_only_count</th>\n",
       "      <th>mismatch_count</th>\n",
       "      <th>source_only_error_percent</th>\n",
       "      <th>mirror_only_error_percent</th>\n",
       "      <th>mismatch_error_percent</th>\n",
       "      <th>audited_date</th>\n",
       "      <th>target_name</th>\n",
       "      <th>Week_no</th>\n",
       "      <th>Weekday</th>\n",
       "      <th>err_type</th>\n",
       "    </tr>\n",
       "    <tr>\n",
       "      <th>start_time</th>\n",
       "      <th></th>\n",
       "      <th></th>\n",
       "      <th></th>\n",
       "      <th></th>\n",
       "      <th></th>\n",
       "      <th></th>\n",
       "      <th></th>\n",
       "      <th></th>\n",
       "      <th></th>\n",
       "      <th></th>\n",
       "      <th></th>\n",
       "      <th></th>\n",
       "      <th></th>\n",
       "      <th></th>\n",
       "      <th></th>\n",
       "    </tr>\n",
       "  </thead>\n",
       "  <tbody>\n",
       "    <tr>\n",
       "      <th>2019-04-16 12:15:12</th>\n",
       "      <td>GPSESP82</td>\n",
       "      <td>msc_supplies</td>\n",
       "      <td>999</td>\n",
       "      <td>969</td>\n",
       "      <td>30</td>\n",
       "      <td>0</td>\n",
       "      <td>969</td>\n",
       "      <td>0</td>\n",
       "      <td>0</td>\n",
       "      <td>3230</td>\n",
       "      <td>2019-04-15</td>\n",
       "      <td>PWR</td>\n",
       "      <td>16</td>\n",
       "      <td>6</td>\n",
       "      <td>src_and_pk</td>\n",
       "    </tr>\n",
       "    <tr>\n",
       "      <th>2019-04-16 05:13:03</th>\n",
       "      <td>PNEOLP01_ADMUSERPSP</td>\n",
       "      <td>taskx</td>\n",
       "      <td>1683</td>\n",
       "      <td>1682</td>\n",
       "      <td>1</td>\n",
       "      <td>0</td>\n",
       "      <td>30</td>\n",
       "      <td>0</td>\n",
       "      <td>0</td>\n",
       "      <td>3000</td>\n",
       "      <td>2019-04-15</td>\n",
       "      <td>PWR</td>\n",
       "      <td>16</td>\n",
       "      <td>6</td>\n",
       "      <td>src_and_pk</td>\n",
       "    </tr>\n",
       "  </tbody>\n",
       "</table>\n",
       "</div>"
      ],
      "text/plain": [
       "                      source_system_name    table_name  total_in_source  \\\n",
       "start_time                                                                \n",
       "2019-04-16 12:15:12             GPSESP82  msc_supplies              999   \n",
       "2019-04-16 05:13:03  PNEOLP01_ADMUSERPSP         taskx             1683   \n",
       "\n",
       "                     total_in_mirror  source_only_count  mirror_only_count  \\\n",
       "start_time                                                                   \n",
       "2019-04-16 12:15:12              969                 30                  0   \n",
       "2019-04-16 05:13:03             1682                  1                  0   \n",
       "\n",
       "                     mismatch_count  source_only_error_percent  \\\n",
       "start_time                                                       \n",
       "2019-04-16 12:15:12             969                          0   \n",
       "2019-04-16 05:13:03              30                          0   \n",
       "\n",
       "                     mirror_only_error_percent  mismatch_error_percent  \\\n",
       "start_time                                                               \n",
       "2019-04-16 12:15:12                          0                    3230   \n",
       "2019-04-16 05:13:03                          0                    3000   \n",
       "\n",
       "                    audited_date target_name  Week_no  Weekday    err_type  \n",
       "start_time                                                                  \n",
       "2019-04-16 12:15:12   2019-04-15         PWR       16        6  src_and_pk  \n",
       "2019-04-16 05:13:03   2019-04-15         PWR       16        6  src_and_pk  "
      ]
     },
     "execution_count": 11,
     "metadata": {},
     "output_type": "execute_result"
    }
   ],
   "source": [
    "pwr_audit.head(2)\n",
    "pwr_err_100_more = pwr_audit[pwr_audit['mismatch_error_percent']>100]\n",
    "pwr_err_100_more.head(2)"
   ]
  },
  {
   "cell_type": "markdown",
   "metadata": {},
   "source": [
    "**Plotting a categorical plot graph to identify which error has occured most no. of times and is common on all weekdays** "
   ]
  },
  {
   "cell_type": "markdown",
   "metadata": {},
   "source": []
  },
  {
   "cell_type": "code",
   "execution_count": 12,
   "metadata": {},
   "outputs": [
    {
     "data": {
      "image/png": "[encoded data removed]",
      "text/plain": [
       "<Figure size 720x720 with 1 Axes>"
      ]
     },
     "metadata": {},
     "output_type": "display_data"
    },
    {
     "data": {
      "image/png": "[encoded data removed]",
      "text/plain": [
       "<Figure size 464x360 with 1 Axes>"
      ]
     },
     "metadata": {},
     "output_type": "display_data"
    }
   ],
   "source": [
    "sns.set_style('darkgrid')\n",
    "#plt.figure(figsize=(200,180))\n",
    "fig,ax = plt.subplots(figsize=(10,10))\n",
    "#df_new_data= pwr_audit_cnt[pwr_audit_cnt['table_name']<=100]\n",
    "\n",
    "#sns.jointplot(x='mismatch_error_percent',y='Weekday',data=pwr_audit)\n",
    "sns.catplot(ax=ax,x=\"Weekday\", y=\"mismatch_error_percent\",hue = \"err_type\", data=pwr_audit[pwr_audit['mismatch_error_percent']<=100],marker=\"o\",s=10);\n",
    "ax.set_xlabel(\"Weekday\",fontsize=30)\n",
    "ax.set_ylabel(\"mismatch_error_percent\",fontsize=20)\n",
    "ax.legend(bbox_to_anchor=(1,1))\n",
    "plt.tight_layout()"
   ]
  },
  {
   "cell_type": "code",
   "execution_count": 13,
   "metadata": {},
   "outputs": [],
   "source": [
    "from functools import reduce\n",
    "pwr_audit_w0 = pwr_audit[(pwr_audit['Weekday'] ==0) & (pwr_audit['mismatch_error_percent'] >0 )]\n",
    "pwr_audit_w1 = pwr_audit[(pwr_audit['Weekday'] ==1) & (pwr_audit['mismatch_error_percent'] >0 )]\n",
    "pwr_audit_w2 = pwr_audit[(pwr_audit['Weekday'] ==2) & (pwr_audit['mismatch_error_percent'] >0 )]\n",
    "pwr_audit_w3 = pwr_audit[(pwr_audit['Weekday'] ==3) & (pwr_audit['mismatch_error_percent'] >0 )]\n",
    "pwr_audit_w4 = pwr_audit[(pwr_audit['Weekday'] ==4) & (pwr_audit['mismatch_error_percent'] >0 )]\n",
    "pwr_audit_w5 = pwr_audit[(pwr_audit['Weekday'] ==5) & (pwr_audit['mismatch_error_percent'] >0 )]\n",
    "pwr_audit_w6 = pwr_audit[(pwr_audit['Weekday'] ==6) & (pwr_audit['mismatch_error_percent'] >0 )]\n",
    "#pwr_audit_all = [pwr_audit_w1,pwr_audit_w2, pwr_audit_w3]\n",
    "pwr_audit_all = [pwr_audit_w0,pwr_audit_w1,pwr_audit_w2, pwr_audit_w3,pwr_audit_w4,pwr_audit_w5,pwr_audit_w6]#, on=['table_name'], how='inner')\n",
    "pwr_audit_all = reduce(lambda left,right: pd.merge(left,right,on='table_name'), pwr_audit_all)\n"
   ]
  },
  {
   "cell_type": "code",
   "execution_count": 14,
   "metadata": {},
   "outputs": [
    {
     "data": {
      "text/html": [
       "<div>\n",
       "<style scoped>\n",
       "    .dataframe tbody tr th:only-of-type {\n",
       "        vertical-align: middle;\n",
       "    }\n",
       "\n",
       "    .dataframe tbody tr th {\n",
       "        vertical-align: top;\n",
       "    }\n",
       "\n",
       "    .dataframe thead th {\n",
       "        text-align: right;\n",
       "    }\n",
       "</style>\n",
       "<table border=\"1\" class=\"dataframe\">\n",
       "  <thead>\n",
       "    <tr style=\"text-align: right;\">\n",
       "      <th></th>\n",
       "      <th>source_system_name_x</th>\n",
       "      <th>table_name</th>\n",
       "      <th>total_in_source_x</th>\n",
       "      <th>total_in_mirror_x</th>\n",
       "      <th>source_only_count_x</th>\n",
       "      <th>mirror_only_count_x</th>\n",
       "      <th>mismatch_count_x</th>\n",
       "      <th>source_only_error_percent_x</th>\n",
       "      <th>mirror_only_error_percent_x</th>\n",
       "      <th>mismatch_error_percent_x</th>\n",
       "      <th>...</th>\n",
       "      <th>mirror_only_count</th>\n",
       "      <th>mismatch_count</th>\n",
       "      <th>source_only_error_percent</th>\n",
       "      <th>mirror_only_error_percent</th>\n",
       "      <th>mismatch_error_percent</th>\n",
       "      <th>audited_date</th>\n",
       "      <th>target_name</th>\n",
       "      <th>Week_no</th>\n",
       "      <th>Weekday</th>\n",
       "      <th>err_type</th>\n",
       "    </tr>\n",
       "  </thead>\n",
       "  <tbody>\n",
       "    <tr>\n",
       "      <th>0</th>\n",
       "      <td>GPSESP82</td>\n",
       "      <td>msc_supplies</td>\n",
       "      <td>90388</td>\n",
       "      <td>91335</td>\n",
       "      <td>0</td>\n",
       "      <td>947</td>\n",
       "      <td>381</td>\n",
       "      <td>100</td>\n",
       "      <td>100</td>\n",
       "      <td>40</td>\n",
       "      <td>...</td>\n",
       "      <td>0</td>\n",
       "      <td>969</td>\n",
       "      <td>0</td>\n",
       "      <td>0</td>\n",
       "      <td>3230</td>\n",
       "      <td>2019-04-15</td>\n",
       "      <td>PWR</td>\n",
       "      <td>16</td>\n",
       "      <td>6</td>\n",
       "      <td>src_and_pk</td>\n",
       "    </tr>\n",
       "    <tr>\n",
       "      <th>1</th>\n",
       "      <td>GPSESP82</td>\n",
       "      <td>msc_supplies</td>\n",
       "      <td>90388</td>\n",
       "      <td>91335</td>\n",
       "      <td>0</td>\n",
       "      <td>947</td>\n",
       "      <td>381</td>\n",
       "      <td>100</td>\n",
       "      <td>100</td>\n",
       "      <td>40</td>\n",
       "      <td>...</td>\n",
       "      <td>571</td>\n",
       "      <td>448</td>\n",
       "      <td>95</td>\n",
       "      <td>95</td>\n",
       "      <td>74</td>\n",
       "      <td>2019-04-15</td>\n",
       "      <td>PWR</td>\n",
       "      <td>16</td>\n",
       "      <td>6</td>\n",
       "      <td>all_mismatch</td>\n",
       "    </tr>\n",
       "  </tbody>\n",
       "</table>\n",
       "<p>2 rows × 99 columns</p>\n",
       "</div>"
      ],
      "text/plain": [
       "  source_system_name_x    table_name  total_in_source_x  total_in_mirror_x  \\\n",
       "0             GPSESP82  msc_supplies              90388              91335   \n",
       "1             GPSESP82  msc_supplies              90388              91335   \n",
       "\n",
       "   source_only_count_x  mirror_only_count_x  mismatch_count_x  \\\n",
       "0                    0                  947               381   \n",
       "1                    0                  947               381   \n",
       "\n",
       "   source_only_error_percent_x  mirror_only_error_percent_x  \\\n",
       "0                          100                          100   \n",
       "1                          100                          100   \n",
       "\n",
       "   mismatch_error_percent_x  ... mirror_only_count mismatch_count  \\\n",
       "0                        40  ...                 0            969   \n",
       "1                        40  ...               571            448   \n",
       "\n",
       "   source_only_error_percent  mirror_only_error_percent  \\\n",
       "0                          0                          0   \n",
       "1                         95                         95   \n",
       "\n",
       "  mismatch_error_percent audited_date  target_name  Week_no  Weekday  \\\n",
       "0                   3230   2019-04-15          PWR       16        6   \n",
       "1                     74   2019-04-15          PWR       16        6   \n",
       "\n",
       "       err_type  \n",
       "0    src_and_pk  \n",
       "1  all_mismatch  \n",
       "\n",
       "[2 rows x 99 columns]"
      ]
     },
     "execution_count": 14,
     "metadata": {},
     "output_type": "execute_result"
    }
   ],
   "source": [
    "#del pwr_audit_all\n",
    "pwr_audit_all.head(2)"
   ]
  },
  {
   "cell_type": "markdown",
   "metadata": {},
   "source": [
    "**The count plot shows no. of occurences of failure for source systems.** "
   ]
  },
  {
   "cell_type": "code",
   "execution_count": 15,
   "metadata": {},
   "outputs": [
    {
     "data": {
      "text/plain": [
       "<matplotlib.legend.Legend at 0x120806f2278>"
      ]
     },
     "execution_count": 15,
     "metadata": {},
     "output_type": "execute_result"
    },
    {
     "data": {
      "image/png": "[encoded data removed]",
      "text/plain": [
       "<Figure size 432x432 with 1 Axes>"
      ]
     },
     "metadata": {},
     "output_type": "display_data"
    }
   ],
   "source": [
    "plt.figure(figsize=(6,6))\n",
    "\n",
    "pwr_audit_GPW_POWERMAX_400_PROD=pwr_audit[(pwr_audit['source_system_name'] =='GPW_POWERMAX_400_PROD') & (pwr_audit['err_type']!='no_error')]\n",
    "#pwr_audit_GPW_POWERMAX_400_PROD=pwr_audit[(pwr_audit['source_system_name'] =='GPW_POWERMAX_400_PROD') & (pwr_audit['err_type']!='no_error') & (pwr_audit['table_name']=='msc_supplies')]\n",
    "\n",
    "#pwr_audit_GPSESP82=pwr_audit[(pwr_audit['source_system_name'] =='GPSESP82') & (pwr_audit['err_type']!='no_error') & (pwr_audit['table_name']=='msc_supplies')]\n",
    "\n",
    "sns.countplot(x=\"Weekday\",hue = \"err_type\", data=pwr_audit_GPW_POWERMAX_400_PROD[pwr_audit_GPW_POWERMAX_400_PROD['mismatch_error_percent']<=100])\n",
    "\n",
    "#sns.countplot(x=\"Weekday\",hue = \"err_type\", data=pwr_audit_GPSESP82[pwr_audit_GPSESP82['mismatch_error_percent']<=100])\n",
    "plt.legend(bbox_to_anchor=(1,1))\n",
    "#pwr_audit[(pwr_audit['Weekday'] ==0) & (pwr_audit['mismatch_error_percent'] >0 )]"
   ]
  },
  {
   "cell_type": "markdown",
   "metadata": {},
   "source": [
    "**The above  histogram shows the distribution of error on weekdays** "
   ]
  },
  {
   "cell_type": "markdown",
   "metadata": {},
   "source": [
    "**Below we will get which are the tables or source systems those are commomly failing on all the weekdays**\n",
    "\n",
    "*We can have various combinations here for predicting the failure may be a table will be failing only on Tuesday , Wednesday and Thrusday*"
   ]
  },
  {
   "cell_type": "code",
   "execution_count": 16,
   "metadata": {},
   "outputs": [
    {
     "data": {
      "text/plain": [
       "array(['msc_supplies', 'rseg', 'eban', 'cost_event', 'mbew', 'marc'],\n",
       "      dtype=object)"
      ]
     },
     "execution_count": 16,
     "metadata": {},
     "output_type": "execute_result"
    }
   ],
   "source": [
    "pwr_audit_all.table_name.unique()\n"
   ]
  },
  {
   "cell_type": "markdown",
   "metadata": {},
   "source": [
    "**To get the common source systems on each Week day from Monday to Sunday**"
   ]
  },
  {
   "cell_type": "code",
   "execution_count": 17,
   "metadata": {},
   "outputs": [
    {
     "data": {
      "text/plain": [
       "array(['GPSESP82', 'PNOMVP01', 'SAP2ER0', 'GPW_POWERMAX_400_PROD',\n",
       "       'PNNICP02'], dtype=object)"
      ]
     },
     "execution_count": 17,
     "metadata": {},
     "output_type": "execute_result"
    }
   ],
   "source": [
    "pwr_audit_all.source_system_name.unique()"
   ]
  },
  {
   "cell_type": "markdown",
   "metadata": {},
   "source": [
    "array('GPSESP82', 'PNOMVP01', 'SAP2ER0', 'GPW_POWERMAX_400_PROD',\n",
    "       'PNNICP02', dtype=object)"
   ]
  },
  {
   "cell_type": "code",
   "execution_count": 18,
   "metadata": {},
   "outputs": [
    {
     "data": {
      "text/html": [
       "<div>\n",
       "<style scoped>\n",
       "    .dataframe tbody tr th:only-of-type {\n",
       "        vertical-align: middle;\n",
       "    }\n",
       "\n",
       "    .dataframe tbody tr th {\n",
       "        vertical-align: top;\n",
       "    }\n",
       "\n",
       "    .dataframe thead th {\n",
       "        text-align: right;\n",
       "    }\n",
       "</style>\n",
       "<table border=\"1\" class=\"dataframe\">\n",
       "  <thead>\n",
       "    <tr style=\"text-align: right;\">\n",
       "      <th></th>\n",
       "      <th>source_system_name_x</th>\n",
       "      <th>table_name</th>\n",
       "      <th>total_in_source_x</th>\n",
       "      <th>total_in_mirror_x</th>\n",
       "      <th>source_only_count_x</th>\n",
       "      <th>mirror_only_count_x</th>\n",
       "      <th>mismatch_count_x</th>\n",
       "      <th>source_only_error_percent_x</th>\n",
       "      <th>mirror_only_error_percent_x</th>\n",
       "      <th>mismatch_error_percent_x</th>\n",
       "      <th>...</th>\n",
       "      <th>mirror_only_count</th>\n",
       "      <th>mismatch_count</th>\n",
       "      <th>source_only_error_percent</th>\n",
       "      <th>mirror_only_error_percent</th>\n",
       "      <th>mismatch_error_percent</th>\n",
       "      <th>audited_date</th>\n",
       "      <th>target_name</th>\n",
       "      <th>Week_no</th>\n",
       "      <th>Weekday</th>\n",
       "      <th>err_type</th>\n",
       "    </tr>\n",
       "  </thead>\n",
       "  <tbody>\n",
       "    <tr>\n",
       "      <th>0</th>\n",
       "      <td>GPSESP82</td>\n",
       "      <td>msc_supplies</td>\n",
       "      <td>90388</td>\n",
       "      <td>91335</td>\n",
       "      <td>0</td>\n",
       "      <td>947</td>\n",
       "      <td>381</td>\n",
       "      <td>100</td>\n",
       "      <td>100</td>\n",
       "      <td>40</td>\n",
       "      <td>...</td>\n",
       "      <td>0</td>\n",
       "      <td>969</td>\n",
       "      <td>0</td>\n",
       "      <td>0</td>\n",
       "      <td>3230</td>\n",
       "      <td>2019-04-15</td>\n",
       "      <td>PWR</td>\n",
       "      <td>16</td>\n",
       "      <td>6</td>\n",
       "      <td>src_and_pk</td>\n",
       "    </tr>\n",
       "    <tr>\n",
       "      <th>1</th>\n",
       "      <td>GPSESP82</td>\n",
       "      <td>msc_supplies</td>\n",
       "      <td>90388</td>\n",
       "      <td>91335</td>\n",
       "      <td>0</td>\n",
       "      <td>947</td>\n",
       "      <td>381</td>\n",
       "      <td>100</td>\n",
       "      <td>100</td>\n",
       "      <td>40</td>\n",
       "      <td>...</td>\n",
       "      <td>571</td>\n",
       "      <td>448</td>\n",
       "      <td>95</td>\n",
       "      <td>95</td>\n",
       "      <td>74</td>\n",
       "      <td>2019-04-15</td>\n",
       "      <td>PWR</td>\n",
       "      <td>16</td>\n",
       "      <td>6</td>\n",
       "      <td>all_mismatch</td>\n",
       "    </tr>\n",
       "  </tbody>\n",
       "</table>\n",
       "<p>2 rows × 99 columns</p>\n",
       "</div>"
      ],
      "text/plain": [
       "  source_system_name_x    table_name  total_in_source_x  total_in_mirror_x  \\\n",
       "0             GPSESP82  msc_supplies              90388              91335   \n",
       "1             GPSESP82  msc_supplies              90388              91335   \n",
       "\n",
       "   source_only_count_x  mirror_only_count_x  mismatch_count_x  \\\n",
       "0                    0                  947               381   \n",
       "1                    0                  947               381   \n",
       "\n",
       "   source_only_error_percent_x  mirror_only_error_percent_x  \\\n",
       "0                          100                          100   \n",
       "1                          100                          100   \n",
       "\n",
       "   mismatch_error_percent_x  ... mirror_only_count mismatch_count  \\\n",
       "0                        40  ...                 0            969   \n",
       "1                        40  ...               571            448   \n",
       "\n",
       "   source_only_error_percent  mirror_only_error_percent  \\\n",
       "0                          0                          0   \n",
       "1                         95                         95   \n",
       "\n",
       "  mismatch_error_percent audited_date  target_name  Week_no  Weekday  \\\n",
       "0                   3230   2019-04-15          PWR       16        6   \n",
       "1                     74   2019-04-15          PWR       16        6   \n",
       "\n",
       "       err_type  \n",
       "0    src_and_pk  \n",
       "1  all_mismatch  \n",
       "\n",
       "[2 rows x 99 columns]"
      ]
     },
     "execution_count": 18,
     "metadata": {},
     "output_type": "execute_result"
    }
   ],
   "source": [
    "pwr_audit_all.head(2)"
   ]
  },
  {
   "cell_type": "markdown",
   "metadata": {},
   "source": [
    "**The above result shows which source system has any type of  errors**"
   ]
  },
  {
   "cell_type": "markdown",
   "metadata": {},
   "source": [
    "**END**"
   ]
  },
  {
   "cell_type": "code",
   "execution_count": null,
   "metadata": {},
   "outputs": [],
   "source": []
  }
 ],
 "metadata": {
  "kernelspec": {
   "display_name": "Python 3",
   "language": "python",
   "name": "python3"
  },
  "language_info": {
   "codemirror_mode": {
    "name": "ipython",
    "version": 3
   },
   "file_extension": ".py",
   "mimetype": "text/x-python",
   "name": "python",
   "nbconvert_exporter": "python",
   "pygments_lexer": "ipython3",
   "version": "3.7.2"
  }
 },
 "nbformat": 4,
 "nbformat_minor": 2
}
